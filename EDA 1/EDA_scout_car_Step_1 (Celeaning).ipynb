{
 "cells": [
  {
   "cell_type": "markdown",
   "metadata": {},
   "source": [
    "# <img src=https://i.ibb.co/wJW61Y2/Used-cars.jpg width=\"700\" height=\"200\">\n",
    "\n",
    "## <p style=\"background-color:#FDFEFE; font-family:newtimeroman; color:#060108; font-size:200%; text-align:center; border-radius:10px 10px;\">The Capstone Project of Data Analytics Module</p>\n",
    "\n",
    "## <p style=\"background-color:#FDFEFE; font-family:newtimeroman; color:#060108; font-size:150%; text-align:center; border-radius:10px 10px;\">Car Price Prediction EDA</p>"
   ]
  },
  {
   "cell_type": "markdown",
   "metadata": {},
   "source": [
    "## Introduction\n",
    "Welcome to \"***AutoScout Data Analysis Project***\". This is the capstone project of ***Data Analysis*** Module. **Auto Scout** data which using for this project, scraped from the on-line car trading company in 2019, contains many features of 9 different car models. In this project, you will have the opportunity to apply many commonly used algorithms for Data Cleaning and Exploratory Data Analysis by using many Python libraries such as Numpy, Pandas, Matplotlib, Seaborn, Scipy you will analyze clean dataset.\n",
    "\n",
    "The project consists of 3 parts:\n",
    "* First part is related with 'data cleaning'. It deals with Incorrect Headers, Incorrect Format, Anomalies, Dropping useless columns.\n",
    "* Second part is related with 'filling data'. It deals with Missing Values. Categorical to numeric transformation is done.\n",
    "* Third part is related with 'handling outliers of data' via Visualisation libraries. Some insights are extracted.\n"
   ]
  },
  {
   "cell_type": "markdown",
   "metadata": {},
   "source": [
    "### Columns:\n",
    "\n",
    "**General Columns**\n",
    "* url: url of autos\n",
    "* short_description, description: Description of autos (in English and German) written by users\n",
    "\n",
    "**Categorical Columns**\n",
    "* make_model, make, model: Model of autos. Ex:Audi A1\n",
    "* body_type, body: Body type of autos Example: van, sedans\n",
    "* vat: VAT deductible, price negotiable\n",
    "* registration, first_registration: First registration date and year of autos.\n",
    "* prev_owner, previous_owners: Number of previous owners\n",
    "* type: new or used\n",
    "* next_inspection, inspection_new: information about inspection (inspection date,..)\n",
    "* body_color, body_color_original: Color of auto Ex: Black, red\n",
    "* paint_type: Paint type of auto Ex: Metallic, Uni/basic\n",
    "* upholstery: Upholstery information (texture, color)\n",
    "* gearing_type: Type of gear Ex: automatic, manual\n",
    "* fuel : fuel type Ex: diesel, benzine\n",
    "* co2_emission, emission_class, emission_label: emission information\n",
    "* drive_chain: drive chain Ex: front,rear, 4WD\n",
    "* consumption: consumption of auto in city, country and combination (lt/100 km)\n",
    "* country_version\n",
    "* entertainment_media\n",
    "* safety_security\n",
    "* comfort_convenience\n",
    "* extras\n",
    "\n",
    "**Quantitative Columns**\n",
    "* price: Price of cars\n",
    "* km: km of autos\n",
    "* hp: horsepower of autos (kW)\n",
    "* displacement: displacement of autos (cc)\n",
    "* warranty: warranty period (month)\n",
    "* weight: weight of auto (kg)\n",
    "* nr_of_doors: number of doors\n",
    "* nr_of_seats : number of seats\n",
    "* cylinders: number of cylinders\n",
    "* gears: number of gears\n",
    "\n"
   ]
  },
  {
   "cell_type": "code",
   "execution_count": 88,
   "metadata": {},
   "outputs": [],
   "source": [
    "import numpy as np\n",
    "import pandas as pd\n",
    "import seaborn as sns \n",
    "import matplotlib.pyplot as plt\n",
    "from skimpy import clean_columns\n",
    "\n",
    "import warnings\n",
    "warnings.filterwarnings(\"ignore\")\n",
    "warnings.warn(\"this will not show\")\n",
    "\n",
    "%matplotlib inline\n",
    "\n",
    "plt.rcParams[\"figure.figsize\"] = (10,6)\n",
    "\n",
    "sns.set_style(\"whitegrid\")\n",
    "pd.set_option('display.float_format', lambda x: '%.2f' % x)\n",
    "\n",
    "pd.options.display.max_rows = 100\n",
    "pd.options.display.max_columns = 100\n",
    "import re"
   ]
  },
  {
   "cell_type": "code",
   "execution_count": 89,
   "metadata": {},
   "outputs": [],
   "source": [
    "df=pd.read_json(\"scout_car.json\",lines=True)"
   ]
  },
  {
   "cell_type": "code",
   "execution_count": 90,
   "metadata": {},
   "outputs": [],
   "source": [
    "df.columns=df.columns.str.strip()"
   ]
  },
  {
   "cell_type": "code",
   "execution_count": 91,
   "metadata": {},
   "outputs": [
    {
     "data": {
      "text/plain": [
       "url                               0.00\n",
       "make_model                        0.00\n",
       "short_description                 0.29\n",
       "body_type                         0.38\n",
       "price                             0.00\n",
       "vat                              28.35\n",
       "km                                0.00\n",
       "registration                      0.00\n",
       "prev_owner                       42.89\n",
       "kW                              100.00\n",
       "hp                                0.00\n",
       "Type                              0.01\n",
       "Previous Owners                  41.71\n",
       "Next Inspection                  77.79\n",
       "Inspection new                   75.30\n",
       "Warranty                         34.05\n",
       "Full Service                     48.39\n",
       "Non-smoking Vehicle              54.92\n",
       "null                              0.00\n",
       "Make                              0.00\n",
       "Model                             0.00\n",
       "Offer Number                     19.94\n",
       "First Registration               10.03\n",
       "Body Color                        3.75\n",
       "Paint Type                       36.26\n",
       "Body Color Original              23.61\n",
       "Upholstery                       23.37\n",
       "Body                              0.38\n",
       "Nr. of Doors                      1.33\n",
       "Nr. of Seats                      6.14\n",
       "Model Code                       68.73\n",
       "Gearing Type                      0.00\n",
       "Displacement                      3.12\n",
       "Cylinders                        35.68\n",
       "Weight                           43.81\n",
       "Drive chain                      43.08\n",
       "Fuel                              0.00\n",
       "Consumption                      11.97\n",
       "CO2 Emission                     11.36\n",
       "Emission Class                   18.98\n",
       "Comfort & Convenience             5.78\n",
       "Entertainment & Media             8.63\n",
       "Extras                           18.61\n",
       "Safety & Security                 6.17\n",
       "description                       0.00\n",
       "Emission Label                   74.97\n",
       "Gears                            29.60\n",
       "Country version                  52.35\n",
       "Electricity consumption          99.14\n",
       "Last Service Date                96.44\n",
       "Other Fuel Types                 94.47\n",
       "Availability                     96.01\n",
       "Last Timing Belt Service Date    99.90\n",
       "Available from                   98.29\n",
       "dtype: float64"
      ]
     },
     "execution_count": 91,
     "metadata": {},
     "output_type": "execute_result"
    }
   ],
   "source": [
    "df.isnull().sum()*100/df.shape[0]"
   ]
  },
  {
   "cell_type": "markdown",
   "metadata": {},
   "source": [
    "### 1) Null-URL"
   ]
  },
  {
   "cell_type": "markdown",
   "metadata": {},
   "source": [
    "*All of data in \"Null-column\"  are nun-value and each row has own Url. It means when we would transform our data to numeric there will be as columns-number as rows number. That's why there will be dropped.*"
   ]
  },
  {
   "cell_type": "code",
   "execution_count": 92,
   "metadata": {},
   "outputs": [],
   "source": [
    "df.drop([\"null\",\"url\"],axis=1,inplace=True)"
   ]
  },
  {
   "cell_type": "markdown",
   "metadata": {},
   "source": [
    "### 2) Make_Model-Make-Model"
   ]
  },
  {
   "cell_type": "code",
   "execution_count": 93,
   "metadata": {},
   "outputs": [
    {
     "data": {
      "text/plain": [
       "True    15919\n",
       "dtype: int64"
      ]
     },
     "execution_count": 93,
     "metadata": {},
     "output_type": "execute_result"
    }
   ],
   "source": [
    "(df[\"make_model\"].str.split(\" \").str[0]==df[\"Make\"].str.strip()).value_counts(dropna=False)"
   ]
  },
  {
   "cell_type": "code",
   "execution_count": 94,
   "metadata": {},
   "outputs": [
    {
     "data": {
      "text/plain": [
       "False    15919\n",
       "dtype: int64"
      ]
     },
     "execution_count": 94,
     "metadata": {},
     "output_type": "execute_result"
    }
   ],
   "source": [
    "(df[\"make_model\"].str.split(\" \").str[1]==df[\"Model\"].str.strip()).value_counts(dropna=False)"
   ]
  },
  {
   "cell_type": "markdown",
   "metadata": {},
   "source": [
    "*The values on make_model and the values  on the other two columns are equal.*"
   ]
  },
  {
   "cell_type": "markdown",
   "metadata": {},
   "source": [
    "**As seen, the \"make_model\" column gives us a more detailed information for our analysis so after the examination of the following columns, \"Make\" & \"Model\", we will decide which one/s we will continue.**"
   ]
  },
  {
   "cell_type": "code",
   "execution_count": 95,
   "metadata": {},
   "outputs": [],
   "source": [
    "df.drop([\"Make\",\"Model\"],axis=1,inplace=True)"
   ]
  },
  {
   "cell_type": "markdown",
   "metadata": {},
   "source": [
    "### 3) Short description "
   ]
  },
  {
   "cell_type": "code",
   "execution_count": 96,
   "metadata": {},
   "outputs": [
    {
     "data": {
      "text/plain": [
       "SPB 1.6 TDI 116 CV S tronic Sport                 64\n",
       "NaN                                               46\n",
       "1.4 66kW (90CV) Selective                         40\n",
       "MOVE KLIMA CD USB ALLWETTER BLUETOOTH             38\n",
       "SPB 30 TDI S tronic Business                      35\n",
       "                                                  ..\n",
       "K Sports Tourer Business **Navi*Voll**             1\n",
       "1.0 Turbo ecoFLEX Automatic Elective Park Navi     1\n",
       "1.6 CDTI Business *Navi*Automatik*Spurh.*          1\n",
       "1.6 136 CV Automatica Navi E 6 Garanzia Full       1\n",
       "TCe 225 EDC GPF LIM Deluxe Pano,RFK                1\n",
       "Name: short_description, Length: 10002, dtype: int64"
      ]
     },
     "execution_count": 96,
     "metadata": {},
     "output_type": "execute_result"
    }
   ],
   "source": [
    "df['short_description'].value_counts(dropna=False)"
   ]
  },
  {
   "cell_type": "markdown",
   "metadata": {},
   "source": [
    "* The displacement values in short description column was extracted."
   ]
  },
  {
   "cell_type": "code",
   "execution_count": 97,
   "metadata": {},
   "outputs": [],
   "source": [
    "df['sd_disp']=df['short_description'].str.findall('\\d\\.\\d').str[0].astype(float)"
   ]
  },
  {
   "cell_type": "markdown",
   "metadata": {},
   "source": [
    "**We have pulled these values and can use these to fill nan_values on the Displacement column.**"
   ]
  },
  {
   "cell_type": "code",
   "execution_count": 98,
   "metadata": {},
   "outputs": [],
   "source": [
    "df['sd_disp'] = df['sd_disp']*1000"
   ]
  },
  {
   "cell_type": "code",
   "execution_count": 99,
   "metadata": {},
   "outputs": [],
   "source": [
    "df.loc[df['sd_disp']<800,'sd_disp'] = np.nan # It is not normal there are motor under this quantity"
   ]
  },
  {
   "cell_type": "markdown",
   "metadata": {},
   "source": [
    "### 4) Displacement"
   ]
  },
  {
   "cell_type": "code",
   "execution_count": 100,
   "metadata": {},
   "outputs": [],
   "source": [
    "df['Displacement']=df['Displacement'].str[0].str.strip().str.replace(\"cc\",\"\").str.replace(\",\",\"\").astype(float)"
   ]
  },
  {
   "cell_type": "code",
   "execution_count": 101,
   "metadata": {},
   "outputs": [],
   "source": [
    "#df[\"Displacement\"]=df[\"Displacement\"].str[0].str.replace(\"cc\",\"\").str.replace(\",\",\"\").str.strip()\n",
    "#df[\"Displacement\"]=pd.to_numeric(df[\"Displacement\"])"
   ]
  },
  {
   "cell_type": "code",
   "execution_count": 102,
   "metadata": {},
   "outputs": [],
   "source": [
    "def disp(d1,d2):\n",
    "    if (d1>4000) | (d1<700) | np.isnan(d1):\n",
    "        if np.isnan(d2):\n",
    "            return d1\n",
    "        else:\n",
    "            return d2\n",
    "    else:\n",
    "        return d1"
   ]
  },
  {
   "cell_type": "code",
   "execution_count": 103,
   "metadata": {},
   "outputs": [],
   "source": [
    "df['Displacement']=df.apply(lambda x: disp(x['Displacement'],x[\"sd_disp\"]),axis=1)"
   ]
  },
  {
   "cell_type": "code",
   "execution_count": 104,
   "metadata": {},
   "outputs": [
    {
     "data": {
      "text/plain": [
       "180"
      ]
     },
     "execution_count": 104,
     "metadata": {},
     "output_type": "execute_result"
    }
   ],
   "source": [
    "df['Displacement'].isnull().sum()"
   ]
  },
  {
   "cell_type": "code",
   "execution_count": 105,
   "metadata": {},
   "outputs": [],
   "source": [
    "df.drop([\"short_description\",\"sd_disp\"],axis=1,inplace=True)"
   ]
  },
  {
   "cell_type": "markdown",
   "metadata": {},
   "source": [
    "*Displacement column was cleaned and compared and matched with sd_disp (short description displacement) column. Some null values of displacement column were filled in this way*"
   ]
  },
  {
   "cell_type": "markdown",
   "metadata": {},
   "source": [
    "### 4) Body Type"
   ]
  },
  {
   "cell_type": "code",
   "execution_count": 106,
   "metadata": {},
   "outputs": [
    {
     "data": {
      "text/plain": [
       "Sedans           7903\n",
       "Station wagon    3553\n",
       "Compact          3153\n",
       "Van               783\n",
       "Other             290\n",
       "Transporter        88\n",
       "NaN                60\n",
       "Off-Road           56\n",
       "Coupe              25\n",
       "Convertible         8\n",
       "Name: Body, dtype: int64"
      ]
     },
     "execution_count": 106,
     "metadata": {},
     "output_type": "execute_result"
    }
   ],
   "source": [
    "df.Body.str[1].value_counts(dropna=False)"
   ]
  },
  {
   "cell_type": "code",
   "execution_count": 107,
   "metadata": {},
   "outputs": [
    {
     "data": {
      "text/plain": [
       "Sedans           7903\n",
       "Station wagon    3553\n",
       "Compact          3153\n",
       "Van               783\n",
       "Other             290\n",
       "Transporter        88\n",
       "NaN                60\n",
       "Off-Road           56\n",
       "Coupe              25\n",
       "Convertible         8\n",
       "Name: body_type, dtype: int64"
      ]
     },
     "execution_count": 107,
     "metadata": {},
     "output_type": "execute_result"
    }
   ],
   "source": [
    "df.body_type.value_counts(dropna=False)"
   ]
  },
  {
   "cell_type": "code",
   "execution_count": 108,
   "metadata": {},
   "outputs": [],
   "source": [
    "df.drop(\"Body\",axis=1,inplace=True)"
   ]
  },
  {
   "cell_type": "markdown",
   "metadata": {},
   "source": [
    "**Both the columns of \"body_type\" & \"Body\" have the same information, we will keep the \"body_type\" column which is more readable.**"
   ]
  },
  {
   "cell_type": "markdown",
   "metadata": {},
   "source": [
    "### 5) km"
   ]
  },
  {
   "cell_type": "code",
   "execution_count": 109,
   "metadata": {},
   "outputs": [
    {
     "data": {
      "text/plain": [
       "10 km        1045\n",
       "- km         1024\n",
       "1 km          367\n",
       "5 km          170\n",
       "50 km         148\n",
       "             ... \n",
       "67,469 km       1\n",
       "43,197 km       1\n",
       "10,027 km       1\n",
       "35,882 km       1\n",
       "57 km           1\n",
       "Name: km, Length: 6690, dtype: int64"
      ]
     },
     "execution_count": 109,
     "metadata": {},
     "output_type": "execute_result"
    }
   ],
   "source": [
    "df.km.value_counts(dropna=False)"
   ]
  },
  {
   "cell_type": "code",
   "execution_count": 110,
   "metadata": {},
   "outputs": [],
   "source": [
    "df.km=df.km.str.replace(\",\",\"\").str.findall(\"\\d+\").str[0].astype(float)"
   ]
  },
  {
   "cell_type": "markdown",
   "metadata": {},
   "source": [
    "*** Km column was cleaned and converted to float.**"
   ]
  },
  {
   "cell_type": "markdown",
   "metadata": {},
   "source": [
    "### 6) kW"
   ]
  },
  {
   "cell_type": "code",
   "execution_count": 111,
   "metadata": {},
   "outputs": [],
   "source": [
    "df.drop(\"kW\",axis=1,inplace=True)"
   ]
  },
  {
   "cell_type": "markdown",
   "metadata": {},
   "source": [
    "***Since there is no meaningful data in kW and null columns they were dropped.**"
   ]
  },
  {
   "cell_type": "markdown",
   "metadata": {},
   "source": [
    "### 7) Registration- First Registration "
   ]
  },
  {
   "cell_type": "code",
   "execution_count": 112,
   "metadata": {},
   "outputs": [
    {
     "data": {
      "text/plain": [
       "-/-        1597\n",
       "03/2018     695\n",
       "02/2019     585\n",
       "05/2018     572\n",
       "03/2019     543\n",
       "Name: registration, dtype: int64"
      ]
     },
     "execution_count": 112,
     "metadata": {},
     "output_type": "execute_result"
    }
   ],
   "source": [
    "df[\"registration\"].value_counts(dropna=False).head(5)"
   ]
  },
  {
   "cell_type": "code",
   "execution_count": 113,
   "metadata": {},
   "outputs": [
    {
     "data": {
      "text/plain": [
       "2018    4522\n",
       "2016    3674\n",
       "2017    3273\n",
       "2019    2853\n",
       "NaN     1597\n",
       "Name: First Registration, dtype: int64"
      ]
     },
     "execution_count": 113,
     "metadata": {},
     "output_type": "execute_result"
    }
   ],
   "source": [
    "df[\"First Registration\"].str[1].value_counts(dropna=False).head(5)"
   ]
  },
  {
   "cell_type": "code",
   "execution_count": 114,
   "metadata": {},
   "outputs": [],
   "source": [
    "df[\"registration\"]=df[\"registration\"].replace(\"-/-\",np.NaN)"
   ]
  },
  {
   "cell_type": "code",
   "execution_count": 115,
   "metadata": {},
   "outputs": [],
   "source": [
    "df[\"age\"]=pd.to_datetime(df[\"registration\"]).dt.year"
   ]
  },
  {
   "cell_type": "code",
   "execution_count": 116,
   "metadata": {},
   "outputs": [],
   "source": [
    "df.drop([\"registration\",\"First Registration\"],axis=1,inplace=True)"
   ]
  },
  {
   "cell_type": "markdown",
   "metadata": {},
   "source": [
    "**Year parts of registration column were extracted and these values were compared with 'First registration' column. Since all the values were exactly matched, 'First registration' column was dropped*"
   ]
  },
  {
   "cell_type": "markdown",
   "metadata": {},
   "source": [
    "### 8) Prev_owner-Previous Owners"
   ]
  },
  {
   "cell_type": "code",
   "execution_count": 117,
   "metadata": {},
   "outputs": [],
   "source": [
    "df[\"Previous Owners\"]=df[\"Previous Owners\"].str.findall(\"\\d\").str[0]"
   ]
  },
  {
   "cell_type": "code",
   "execution_count": 118,
   "metadata": {},
   "outputs": [
    {
     "data": {
      "text/plain": [
       "1      8294\n",
       "NaN    6828\n",
       "2       778\n",
       "3        17\n",
       "4         2\n",
       "Name: prev_owner, dtype: int64"
      ]
     },
     "execution_count": 118,
     "metadata": {},
     "output_type": "execute_result"
    }
   ],
   "source": [
    "df['prev_owner'].str.findall(\"\\d\").str[0].value_counts(dropna=False)"
   ]
  },
  {
   "cell_type": "code",
   "execution_count": 119,
   "metadata": {},
   "outputs": [],
   "source": [
    "df.drop(\"prev_owner\",axis=1,inplace=True)"
   ]
  },
  {
   "cell_type": "markdown",
   "metadata": {},
   "source": [
    "### 9) hp"
   ]
  },
  {
   "cell_type": "code",
   "execution_count": 120,
   "metadata": {},
   "outputs": [],
   "source": [
    "df.hp=df.hp.str.extract('(\\d{1,4})').astype('float')"
   ]
  },
  {
   "cell_type": "markdown",
   "metadata": {},
   "source": [
    "### 10) Type"
   ]
  },
  {
   "cell_type": "code",
   "execution_count": 121,
   "metadata": {},
   "outputs": [],
   "source": [
    "df.Type=df.Type.str[1].str.strip()"
   ]
  },
  {
   "cell_type": "markdown",
   "metadata": {},
   "source": [
    "This column consists of the information about if the car is new, used, pre-registered, demonstration or employee's car. This part cleaned.\n",
    "This column also includes data about fuel_type. This data was compared with fuel column. Since they exactly match, fuel datas of type column has not been taken into account."
   ]
  },
  {
   "cell_type": "markdown",
   "metadata": {},
   "source": [
    "### 11) Next Inspection - Inspection new"
   ]
  },
  {
   "cell_type": "code",
   "execution_count": 122,
   "metadata": {},
   "outputs": [
    {
     "data": {
      "text/plain": [
       "0         [\\n06/2021\\n, \\n99 g CO2/km (comb)\\n]\n",
       "1                                           NaN\n",
       "2                                           NaN\n",
       "3                                           NaN\n",
       "4                                           NaN\n",
       "                          ...                  \n",
       "15914                                       NaN\n",
       "15915    [\\n01/2022\\n, \\n168 g CO2/km (comb)\\n]\n",
       "15916                                       NaN\n",
       "15917                                       NaN\n",
       "15918                                       NaN\n",
       "Name: Next Inspection, Length: 15919, dtype: object"
      ]
     },
     "execution_count": 122,
     "metadata": {},
     "output_type": "execute_result"
    }
   ],
   "source": [
    "df[\"Next Inspection\"]"
   ]
  },
  {
   "cell_type": "code",
   "execution_count": 123,
   "metadata": {},
   "outputs": [],
   "source": [
    "def ins(x):\n",
    "    if type(x)==list:\n",
    "        return x[0].strip()\n",
    "    elif type(x)==float:\n",
    "        return x\n",
    "    else:\n",
    "        return x.strip(\"\")"
   ]
  },
  {
   "cell_type": "code",
   "execution_count": 124,
   "metadata": {},
   "outputs": [],
   "source": [
    "df[\"Next Inspection\"]=df[\"Next Inspection\"].apply(ins)"
   ]
  },
  {
   "cell_type": "code",
   "execution_count": 125,
   "metadata": {},
   "outputs": [],
   "source": [
    "def ins_n(x):\n",
    "    if type(x)==list:\n",
    "        return x[0].strip()\n",
    "    elif type(x)==float:\n",
    "        return x\n",
    "    else:\n",
    "        return x.strip(\"\")"
   ]
  },
  {
   "cell_type": "code",
   "execution_count": 126,
   "metadata": {},
   "outputs": [],
   "source": [
    "df['Inspection new'] = df['Inspection new'].apply(ins_n)"
   ]
  },
  {
   "cell_type": "markdown",
   "metadata": {},
   "source": [
    "### 12) Warranty"
   ]
  },
  {
   "cell_type": "code",
   "execution_count": 127,
   "metadata": {},
   "outputs": [],
   "source": [
    "def war(x):\n",
    "    if type(x)==list:\n",
    "        return x[0].str.replace(\"\\n\",np.NaN)\n",
    "    elif type(x)==float:\n",
    "        return x\n",
    "    else:\n",
    "        return x"
   ]
  },
  {
   "cell_type": "code",
   "execution_count": 128,
   "metadata": {},
   "outputs": [],
   "source": [
    "df[\"Warranty\"]=df.Warranty.apply(lambda x : x[0] if type(x)==list else x)"
   ]
  },
  {
   "cell_type": "code",
   "execution_count": 129,
   "metadata": {},
   "outputs": [],
   "source": [
    "df[\"Warranty\"]=df.Warranty.str.strip(\"\\n\").str.extract('(\\d{1,2})').astype(\"float\")"
   ]
  },
  {
   "cell_type": "markdown",
   "metadata": {},
   "source": [
    "### 13) Full Service, Non-smoking Vehicle, Offer Number"
   ]
  },
  {
   "cell_type": "code",
   "execution_count": 130,
   "metadata": {},
   "outputs": [],
   "source": [
    "df.drop('Full Service',axis=1,inplace=True)"
   ]
  },
  {
   "cell_type": "code",
   "execution_count": 131,
   "metadata": {},
   "outputs": [],
   "source": [
    "df.drop('Non-smoking Vehicle',axis=1,inplace=True)"
   ]
  },
  {
   "cell_type": "code",
   "execution_count": 132,
   "metadata": {},
   "outputs": [],
   "source": [
    "df.drop('Offer Number',axis=1,inplace=True)"
   ]
  },
  {
   "cell_type": "markdown",
   "metadata": {},
   "source": [
    "* Since there is no meaningful data in these columns, they were dropped."
   ]
  },
  {
   "cell_type": "markdown",
   "metadata": {},
   "source": [
    "### 13) Body Color -Body Color Original"
   ]
  },
  {
   "cell_type": "code",
   "execution_count": 133,
   "metadata": {},
   "outputs": [],
   "source": [
    "df[\"Body Color\"]=df[\"Body Color\"].str[1]"
   ]
  },
  {
   "cell_type": "code",
   "execution_count": 134,
   "metadata": {},
   "outputs": [],
   "source": [
    "df[\"Body Color Original\"]=df[\"Body Color Original\"].str[0]"
   ]
  },
  {
   "cell_type": "code",
   "execution_count": 135,
   "metadata": {},
   "outputs": [],
   "source": [
    "df[\"Body Color Original\"]=df[\"Body Color Original\"].str.strip()"
   ]
  },
  {
   "cell_type": "code",
   "execution_count": 136,
   "metadata": {},
   "outputs": [],
   "source": [
    "df.drop([\"Body Color\",\"Body Color Original\"], axis=1, inplace=True)"
   ]
  },
  {
   "cell_type": "markdown",
   "metadata": {},
   "source": [
    "### 14) Nr. of Doors -Nr. of Seats -Displacement - Gearing Type-Model Code-Drive chain-Paint Type-Emission Class-Cylinders"
   ]
  },
  {
   "cell_type": "code",
   "execution_count": 137,
   "metadata": {},
   "outputs": [],
   "source": [
    "df[\"Paint Type\"]=df[\"Paint Type\"].str[0].str.strip()"
   ]
  },
  {
   "cell_type": "code",
   "execution_count": 138,
   "metadata": {},
   "outputs": [],
   "source": [
    "df[\"Nr. of Seats\"]=df[\"Nr. of Seats\"].str[0].str.strip()\n",
    "df[\"Nr. of Seats\"]=pd.to_numeric(df[\"Nr. of Seats\"])"
   ]
  },
  {
   "cell_type": "code",
   "execution_count": 139,
   "metadata": {},
   "outputs": [],
   "source": [
    "df[\"Gearing Type\"]=df[\"Gearing Type\"].str[1].str.strip()"
   ]
  },
  {
   "cell_type": "code",
   "execution_count": 140,
   "metadata": {},
   "outputs": [],
   "source": [
    "df[\"Nr. of Doors\"]=df[\"Nr. of Doors\"].str[0].str.strip()\n",
    "df[\"Nr. of Doors\"]=pd.to_numeric(df[\"Nr. of Doors\"])"
   ]
  },
  {
   "cell_type": "code",
   "execution_count": 141,
   "metadata": {},
   "outputs": [],
   "source": [
    "df[\"Model Code\"]=df[\"Model Code\"].str[0].str.strip()\n",
    "df.drop(\"Model Code\",axis=1,inplace=True)"
   ]
  },
  {
   "cell_type": "code",
   "execution_count": 142,
   "metadata": {},
   "outputs": [],
   "source": [
    "df[\"Drive chain\"]=df[\"Drive chain\"].str[0].str.strip()"
   ]
  },
  {
   "cell_type": "code",
   "execution_count": 143,
   "metadata": {},
   "outputs": [],
   "source": [
    "df[\"Cylinders\"]=df[\"Cylinders\"].str[0].str.strip()"
   ]
  },
  {
   "cell_type": "code",
   "execution_count": 144,
   "metadata": {},
   "outputs": [],
   "source": [
    "df[\"Cylinders\"]=pd.to_numeric(df[\"Cylinders\"])"
   ]
  },
  {
   "cell_type": "code",
   "execution_count": 145,
   "metadata": {},
   "outputs": [],
   "source": [
    "df['Weight'] = df['Weight'].str[0].str.replace(',','').str.findall('\\d+').str[0].astype('float')"
   ]
  },
  {
   "cell_type": "code",
   "execution_count": null,
   "metadata": {},
   "outputs": [],
   "source": []
  },
  {
   "cell_type": "markdown",
   "metadata": {},
   "source": [
    "### 15) Upholstery"
   ]
  },
  {
   "cell_type": "code",
   "execution_count": 146,
   "metadata": {},
   "outputs": [],
   "source": [
    "df[\"Upholstery\"] = [item[0] if type(item) == list else item for item in df.Upholstery]"
   ]
  },
  {
   "cell_type": "code",
   "execution_count": 147,
   "metadata": {},
   "outputs": [],
   "source": [
    "df[\"Upholstery\"] = df.Upholstery.str.strip(\"\\n\").str.split(\", \")"
   ]
  },
  {
   "cell_type": "code",
   "execution_count": 148,
   "metadata": {},
   "outputs": [],
   "source": [
    "u_type = [\"Cloth\", 'Part leather', 'Full leather', 'Velour', 'alcantara']\n",
    "\n",
    "df[\"Upholstery_type\"] = df[\"Upholstery\"].apply(lambda x : x[0] if type(x) == list and x[0] in u_type else np.nan)"
   ]
  },
  {
   "cell_type": "code",
   "execution_count": 149,
   "metadata": {},
   "outputs": [],
   "source": [
    "color = ['Black', 'Grey', 'Brown', 'Beige', 'White', 'Blue', 'Red', 'Yellow', 'Orange']\n",
    "\n",
    "def color_finder(x):\n",
    "    if type(x) == list and len(x) == 2:\n",
    "        return x[1]\n",
    "    elif type(x) == list and x[0] in color:\n",
    "        return x[0]\n",
    "    else:\n",
    "        return np.nan\n",
    "    \n",
    "df['Upholstery_color'] = df.Upholstery.apply(color_finder)"
   ]
  },
  {
   "cell_type": "code",
   "execution_count": 150,
   "metadata": {},
   "outputs": [],
   "source": [
    "df.drop(\"Upholstery\", axis=1, inplace=True)"
   ]
  },
  {
   "cell_type": "markdown",
   "metadata": {},
   "source": [
    "### 16) Fuel"
   ]
  },
  {
   "cell_type": "code",
   "execution_count": 151,
   "metadata": {},
   "outputs": [],
   "source": [
    "df[\"Fuel\"]=df[\"Fuel\"].str[1]"
   ]
  },
  {
   "cell_type": "code",
   "execution_count": 152,
   "metadata": {},
   "outputs": [],
   "source": [
    "def func2(x):\n",
    "    if 'Diesel' in x:\n",
    "        return 'Diesel'\n",
    "    elif 'Super' in x:\n",
    "        return 'Benzine'\n",
    "    elif 'Gasoline' in x:\n",
    "        return 'Benzine'\n",
    "    elif 'Benzine' in x:\n",
    "        return 'Benzine'\n",
    "    else:\n",
    "        return x"
   ]
  },
  {
   "cell_type": "code",
   "execution_count": 153,
   "metadata": {},
   "outputs": [],
   "source": [
    "df[\"Fuel\"]=df[\"Fuel\"].apply(func2)"
   ]
  },
  {
   "cell_type": "code",
   "execution_count": 154,
   "metadata": {},
   "outputs": [],
   "source": [
    "df['Fuel'].replace(['CNG','LPG', 'Liquid petroleum gas (LPG)','CNG (Particulate Filter)', 'Domestic gas H','Biogas'], 'Gas',inplace = True)"
   ]
  },
  {
   "cell_type": "code",
   "execution_count": 155,
   "metadata": {},
   "outputs": [],
   "source": [
    "df['Fuel'].replace(['Others (Particulate Filter)','Others','Electric'], 'Others',inplace = True)"
   ]
  },
  {
   "cell_type": "markdown",
   "metadata": {},
   "source": [
    "### 17) Consumption"
   ]
  },
  {
   "cell_type": "code",
   "execution_count": 156,
   "metadata": {},
   "outputs": [],
   "source": [
    "def consume_combined(a):\n",
    "    if type(a) == list:\n",
    "        if len(a) >3:\n",
    "            for i in a:\n",
    "                if 'comb' in i:\n",
    "                    return i\n",
    "        else:\n",
    "            return a[0]            \n",
    "    \n",
    "    else:\n",
    "        return a\n",
    "    \n",
    "df['Consumption_combined'] = df['Consumption'].apply(consume_combined)"
   ]
  },
  {
   "cell_type": "code",
   "execution_count": 157,
   "metadata": {},
   "outputs": [],
   "source": [
    "def cleaning_consumption(a):\n",
    "    if type(a) == list:\n",
    "        if len(a) > 0:\n",
    "            b = re.findall(\"\\d\\.?\\d?\", a[0])\n",
    "            return b[0]\n",
    "        else:\n",
    "            return np.nan\n",
    "    elif type(a) == str:\n",
    "        b = re.findall(\"\\d\\.?\\d?\",a)\n",
    "        return b[0]        \n",
    "    else:\n",
    "        return a"
   ]
  },
  {
   "cell_type": "code",
   "execution_count": 158,
   "metadata": {},
   "outputs": [],
   "source": [
    "def consume_city(a):\n",
    "    if type(a) == list:\n",
    "        if len(a) >3:\n",
    "            for i in a:\n",
    "                if 'city' in i:\n",
    "                    return i\n",
    "        else:\n",
    "            return a[1]           \n",
    "    \n",
    "    else:\n",
    "        return a\n",
    "    \n",
    "df['Consumption_city'] = df['Consumption'].apply(consume_city)"
   ]
  },
  {
   "cell_type": "code",
   "execution_count": 159,
   "metadata": {},
   "outputs": [],
   "source": [
    "def consume_country(a):\n",
    "    if type(a)== list:\n",
    "        if len(a) >3:\n",
    "            for i in a:\n",
    "                if 'country' in i:\n",
    "                    return i\n",
    "        else:\n",
    "            return a[2]            \n",
    "    \n",
    "    else:\n",
    "        return a\n",
    "    \n",
    "df['Consumption_country'] = df['Consumption'].apply(consume_country)"
   ]
  },
  {
   "cell_type": "code",
   "execution_count": 160,
   "metadata": {},
   "outputs": [],
   "source": [
    "df['Consumption_combined'] = df['Consumption_combined'].apply(cleaning_consumption).astype('float')\n",
    "df['Consumption_city'] = df['Consumption_city'].apply(cleaning_consumption).astype('float')\n",
    "df['Consumption_country'] = df['Consumption_country'].apply(cleaning_consumption).astype('float')\n",
    "\n",
    "df.drop(\"Consumption\",axis=1,inplace=True)"
   ]
  },
  {
   "cell_type": "markdown",
   "metadata": {},
   "source": [
    "### 18 ) CO2 Emission"
   ]
  },
  {
   "cell_type": "code",
   "execution_count": 161,
   "metadata": {},
   "outputs": [],
   "source": [
    "df['CO2 Emission'] = df['CO2 Emission'].str[0].str.findall('\\d+').str[0].astype('float')"
   ]
  },
  {
   "cell_type": "markdown",
   "metadata": {},
   "source": [
    "### 19) Emission Class"
   ]
  },
  {
   "cell_type": "code",
   "execution_count": 162,
   "metadata": {},
   "outputs": [],
   "source": [
    "df[\"Emission Class\"]=df[\"Emission Class\"].str[0].str.replace(\"\\n\",\"\")"
   ]
  },
  {
   "cell_type": "code",
   "execution_count": 163,
   "metadata": {},
   "outputs": [],
   "source": [
    "df['Emission Class'].replace(['Euro 6','Euro 6d-TEMP','Euro 6d', 'Euro 6c'], 'Euro 6', inplace = True)"
   ]
  },
  {
   "cell_type": "markdown",
   "metadata": {},
   "source": [
    "### 20) Emission Label - Description - Last Timing Belt Service Date- Electricity consumption- Available from- Availability- Other Fuel Types-Last Service Date"
   ]
  },
  {
   "cell_type": "code",
   "execution_count": 164,
   "metadata": {},
   "outputs": [],
   "source": [
    "df.drop(\"Emission Label\",axis=1,inplace=True)\n",
    "df.drop(\"description\",axis=1,inplace=True)\n",
    "df.drop(\"Last Timing Belt Service Date\",axis=1,inplace=True)\n",
    "df.drop(\"Electricity consumption\",axis=1,inplace=True)\n",
    "df.drop(\"Available from\",axis=1,inplace=True)\n",
    "df.drop(\"Availability\",axis=1,inplace=True)\n",
    "df.drop(\"Other Fuel Types\",axis=1,inplace=True)\n",
    "df.drop(\"Last Service Date\",axis=1,inplace=True)"
   ]
  },
  {
   "cell_type": "markdown",
   "metadata": {},
   "source": [
    "### 21) Gears"
   ]
  },
  {
   "cell_type": "code",
   "execution_count": 165,
   "metadata": {},
   "outputs": [],
   "source": [
    "df[\"Gears\"]=df[\"Gears\"].str[0].str.replace(\"\\n\",\"\")"
   ]
  },
  {
   "cell_type": "code",
   "execution_count": 166,
   "metadata": {},
   "outputs": [],
   "source": [
    "df[\"Gears\"]=pd.to_numeric(df[\"Gears\"])"
   ]
  },
  {
   "cell_type": "code",
   "execution_count": 167,
   "metadata": {},
   "outputs": [],
   "source": [
    "df.loc[14495,\"Gears\"]=5.0"
   ]
  },
  {
   "cell_type": "code",
   "execution_count": 168,
   "metadata": {},
   "outputs": [],
   "source": [
    "df.drop(\"Country version\", axis=1, inplace=True)"
   ]
  },
  {
   "cell_type": "markdown",
   "metadata": {},
   "source": [
    "### 22) Comfort_Convenience-Entertainment_Media-Extras-Safety Security"
   ]
  },
  {
   "cell_type": "code",
   "execution_count": 169,
   "metadata": {},
   "outputs": [],
   "source": [
    "df[\"Comfort & Convenience\"] = [\",\".join(item) if type(item) == list else item for item in df[\"Comfort & Convenience\"]]"
   ]
  },
  {
   "cell_type": "code",
   "execution_count": 170,
   "metadata": {},
   "outputs": [],
   "source": [
    "df[\"Entertainment & Media\"] = [\",\".join(item) if type(item) == list else item for item in df[\"Entertainment & Media\"]]"
   ]
  },
  {
   "cell_type": "code",
   "execution_count": 171,
   "metadata": {},
   "outputs": [],
   "source": [
    "df[\"Extras\"] = [\",\".join(item) if type(item) == list else item for item in df[\"Extras\"]]"
   ]
  },
  {
   "cell_type": "code",
   "execution_count": 172,
   "metadata": {},
   "outputs": [],
   "source": [
    "df[\"Safety & Security\"] = [\",\".join(item) if type(item) == list else item for item in df[\"Safety & Security\"]]"
   ]
  },
  {
   "cell_type": "code",
   "execution_count": 173,
   "metadata": {},
   "outputs": [
    {
     "name": "stdout",
     "output_type": "stream",
     "text": [
      "<class 'pandas.core.frame.DataFrame'>\n",
      "RangeIndex: 15919 entries, 0 to 15918\n",
      "Data columns (total 33 columns):\n",
      " #   Column                 Non-Null Count  Dtype  \n",
      "---  ------                 --------------  -----  \n",
      " 0   make_model             15919 non-null  object \n",
      " 1   body_type              15859 non-null  object \n",
      " 2   price                  15919 non-null  int64  \n",
      " 3   vat                    11406 non-null  object \n",
      " 4   km                     14895 non-null  float64\n",
      " 5   hp                     15831 non-null  float64\n",
      " 6   Type                   15917 non-null  object \n",
      " 7   Previous Owners        9049 non-null   object \n",
      " 8   Next Inspection        3535 non-null   object \n",
      " 9   Inspection new         3932 non-null   object \n",
      " 10  Warranty               4853 non-null   float64\n",
      " 11  Paint Type             10147 non-null  object \n",
      " 12  Nr. of Doors           15707 non-null  float64\n",
      " 13  Nr. of Seats           14942 non-null  float64\n",
      " 14  Gearing Type           15919 non-null  object \n",
      " 15  Displacement           15739 non-null  float64\n",
      " 16  Cylinders              10239 non-null  float64\n",
      " 17  Weight                 8945 non-null   float64\n",
      " 18  Drive chain            9061 non-null   object \n",
      " 19  Fuel                   15919 non-null  object \n",
      " 20  CO2 Emission           13483 non-null  float64\n",
      " 21  Emission Class         12291 non-null  object \n",
      " 22  Comfort & Convenience  14999 non-null  object \n",
      " 23  Entertainment & Media  14545 non-null  object \n",
      " 24  Extras                 12957 non-null  object \n",
      " 25  Safety & Security      14937 non-null  object \n",
      " 26  Gears                  11207 non-null  float64\n",
      " 27  age                    14322 non-null  float64\n",
      " 28  Upholstery_type        11048 non-null  object \n",
      " 29  Upholstery_color       10841 non-null  object \n",
      " 30  Consumption_combined   13886 non-null  float64\n",
      " 31  Consumption_city       13483 non-null  float64\n",
      " 32  Consumption_country    13543 non-null  float64\n",
      "dtypes: float64(14), int64(1), object(18)\n",
      "memory usage: 4.0+ MB\n"
     ]
    }
   ],
   "source": [
    "df.info()"
   ]
  },
  {
   "cell_type": "code",
   "execution_count": 174,
   "metadata": {},
   "outputs": [],
   "source": [
    "df.to_csv(\"Capstone_new.csv\",index=False)"
   ]
  },
  {
   "cell_type": "code",
   "execution_count": 176,
   "metadata": {},
   "outputs": [
    {
     "name": "stdout",
     "output_type": "stream",
     "text": [
      "make_model\n",
      "body_type\n",
      "price\n",
      "vat\n",
      "km\n",
      "hp\n",
      "Type\n",
      "Previous Owners\n",
      "Next Inspection\n",
      "Inspection new\n",
      "Warranty\n",
      "Paint Type\n",
      "Nr. of Doors\n",
      "Nr. of Seats\n",
      "Gearing Type\n",
      "Displacement\n",
      "Cylinders\n",
      "Weight\n",
      "Drive chain\n",
      "Fuel\n",
      "CO2 Emission\n",
      "Emission Class\n",
      "Comfort & Convenience\n",
      "Entertainment & Media\n",
      "Extras\n",
      "Safety & Security\n",
      "Gears\n",
      "age\n",
      "Upholstery_type\n",
      "Upholstery_color\n",
      "Consumption_combined\n",
      "Consumption_city\n",
      "Consumption_country\n"
     ]
    }
   ],
   "source": [
    "for i in df.columns:\n",
    "    print(i)"
   ]
  },
  {
   "cell_type": "code",
   "execution_count": 177,
   "metadata": {},
   "outputs": [
    {
     "data": {
      "text/plain": [
       "33"
      ]
     },
     "execution_count": 177,
     "metadata": {},
     "output_type": "execute_result"
    }
   ],
   "source": [
    "len(df.columns)"
   ]
  },
  {
   "cell_type": "code",
   "execution_count": null,
   "metadata": {},
   "outputs": [],
   "source": []
  }
 ],
 "metadata": {
  "kernelspec": {
   "display_name": "Python 3 (ipykernel)",
   "language": "python",
   "name": "python3"
  },
  "language_info": {
   "codemirror_mode": {
    "name": "ipython",
    "version": 3
   },
   "file_extension": ".py",
   "mimetype": "text/x-python",
   "name": "python",
   "nbconvert_exporter": "python",
   "pygments_lexer": "ipython3",
   "version": "3.9.7"
  }
 },
 "nbformat": 4,
 "nbformat_minor": 4
}
