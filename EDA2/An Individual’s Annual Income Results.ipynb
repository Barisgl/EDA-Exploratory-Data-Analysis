{
 "cells": [
  {
   "cell_type": "code",
   "execution_count": 1,
   "id": "7732bb91",
   "metadata": {},
   "outputs": [],
   "source": [
    "import numpy as np\n",
    "import pandas as pd\n",
    "import seaborn as sns \n",
    "import matplotlib.pyplot as plt\n",
    "from scipy import stats\n",
    "from scipy.stats.mstats import winsorize\n",
    "\n",
    "import warnings\n",
    "warnings.filterwarnings(\"ignore\")\n",
    "warnings.warn(\"this will not show\")\n",
    "\n",
    "%matplotlib inline\n",
    "# %matplotlib notebook\n",
    "\n",
    "plt.rcParams[\"figure.figsize\"] = (10,6)\n",
    "# plt.rcParams['figure.dpi'] = 100\n",
    "\n",
    "sns.set_style(\"whitegrid\")\n",
    "pd.set_option('display.float_format', lambda x: '%.3f' % x)\n",
    "\n",
    "#pd.options.display.max_rows = 1000\n",
    "#pd.options.display.max_columns = 150"
   ]
  },
  {
   "cell_type": "code",
   "execution_count": 2,
   "id": "c6a91709",
   "metadata": {},
   "outputs": [],
   "source": [
    "df=pd.read_csv(\"adult.csv\")"
   ]
  },
  {
   "cell_type": "markdown",
   "id": "279db723",
   "metadata": {},
   "source": [
    "## 1) General Overview"
   ]
  },
  {
   "cell_type": "code",
   "execution_count": 3,
   "id": "64e74ed1",
   "metadata": {},
   "outputs": [
    {
     "data": {
      "text/html": [
       "<div>\n",
       "<style scoped>\n",
       "    .dataframe tbody tr th:only-of-type {\n",
       "        vertical-align: middle;\n",
       "    }\n",
       "\n",
       "    .dataframe tbody tr th {\n",
       "        vertical-align: top;\n",
       "    }\n",
       "\n",
       "    .dataframe thead th {\n",
       "        text-align: right;\n",
       "    }\n",
       "</style>\n",
       "<table border=\"1\" class=\"dataframe\">\n",
       "  <thead>\n",
       "    <tr style=\"text-align: right;\">\n",
       "      <th></th>\n",
       "      <th>age</th>\n",
       "      <th>workclass</th>\n",
       "      <th>fnlwgt</th>\n",
       "      <th>education</th>\n",
       "      <th>educational-num</th>\n",
       "      <th>marital-status</th>\n",
       "      <th>occupation</th>\n",
       "      <th>relationship</th>\n",
       "      <th>race</th>\n",
       "      <th>gender</th>\n",
       "      <th>capital-gain</th>\n",
       "      <th>capital-loss</th>\n",
       "      <th>hours-per-week</th>\n",
       "      <th>native-country</th>\n",
       "      <th>income</th>\n",
       "    </tr>\n",
       "  </thead>\n",
       "  <tbody>\n",
       "    <tr>\n",
       "      <th>0</th>\n",
       "      <td>25</td>\n",
       "      <td>Private</td>\n",
       "      <td>226802</td>\n",
       "      <td>11th</td>\n",
       "      <td>7</td>\n",
       "      <td>Never-married</td>\n",
       "      <td>Machine-op-inspct</td>\n",
       "      <td>Own-child</td>\n",
       "      <td>Black</td>\n",
       "      <td>Male</td>\n",
       "      <td>0</td>\n",
       "      <td>0</td>\n",
       "      <td>40</td>\n",
       "      <td>United-States</td>\n",
       "      <td>&lt;=50K</td>\n",
       "    </tr>\n",
       "    <tr>\n",
       "      <th>1</th>\n",
       "      <td>38</td>\n",
       "      <td>Private</td>\n",
       "      <td>89814</td>\n",
       "      <td>HS-grad</td>\n",
       "      <td>9</td>\n",
       "      <td>Married-civ-spouse</td>\n",
       "      <td>Farming-fishing</td>\n",
       "      <td>Husband</td>\n",
       "      <td>White</td>\n",
       "      <td>Male</td>\n",
       "      <td>0</td>\n",
       "      <td>0</td>\n",
       "      <td>50</td>\n",
       "      <td>United-States</td>\n",
       "      <td>&lt;=50K</td>\n",
       "    </tr>\n",
       "    <tr>\n",
       "      <th>2</th>\n",
       "      <td>28</td>\n",
       "      <td>Local-gov</td>\n",
       "      <td>336951</td>\n",
       "      <td>Assoc-acdm</td>\n",
       "      <td>12</td>\n",
       "      <td>Married-civ-spouse</td>\n",
       "      <td>Protective-serv</td>\n",
       "      <td>Husband</td>\n",
       "      <td>White</td>\n",
       "      <td>Male</td>\n",
       "      <td>0</td>\n",
       "      <td>0</td>\n",
       "      <td>40</td>\n",
       "      <td>United-States</td>\n",
       "      <td>&gt;50K</td>\n",
       "    </tr>\n",
       "    <tr>\n",
       "      <th>3</th>\n",
       "      <td>44</td>\n",
       "      <td>Private</td>\n",
       "      <td>160323</td>\n",
       "      <td>Some-college</td>\n",
       "      <td>10</td>\n",
       "      <td>Married-civ-spouse</td>\n",
       "      <td>Machine-op-inspct</td>\n",
       "      <td>Husband</td>\n",
       "      <td>Black</td>\n",
       "      <td>Male</td>\n",
       "      <td>7688</td>\n",
       "      <td>0</td>\n",
       "      <td>40</td>\n",
       "      <td>United-States</td>\n",
       "      <td>&gt;50K</td>\n",
       "    </tr>\n",
       "    <tr>\n",
       "      <th>4</th>\n",
       "      <td>18</td>\n",
       "      <td>?</td>\n",
       "      <td>103497</td>\n",
       "      <td>Some-college</td>\n",
       "      <td>10</td>\n",
       "      <td>Never-married</td>\n",
       "      <td>?</td>\n",
       "      <td>Own-child</td>\n",
       "      <td>White</td>\n",
       "      <td>Female</td>\n",
       "      <td>0</td>\n",
       "      <td>0</td>\n",
       "      <td>30</td>\n",
       "      <td>United-States</td>\n",
       "      <td>&lt;=50K</td>\n",
       "    </tr>\n",
       "  </tbody>\n",
       "</table>\n",
       "</div>"
      ],
      "text/plain": [
       "   age  workclass  fnlwgt     education  educational-num      marital-status  \\\n",
       "0   25    Private  226802          11th                7       Never-married   \n",
       "1   38    Private   89814       HS-grad                9  Married-civ-spouse   \n",
       "2   28  Local-gov  336951    Assoc-acdm               12  Married-civ-spouse   \n",
       "3   44    Private  160323  Some-college               10  Married-civ-spouse   \n",
       "4   18          ?  103497  Some-college               10       Never-married   \n",
       "\n",
       "          occupation relationship   race  gender  capital-gain  capital-loss  \\\n",
       "0  Machine-op-inspct    Own-child  Black    Male             0             0   \n",
       "1    Farming-fishing      Husband  White    Male             0             0   \n",
       "2    Protective-serv      Husband  White    Male             0             0   \n",
       "3  Machine-op-inspct      Husband  Black    Male          7688             0   \n",
       "4                  ?    Own-child  White  Female             0             0   \n",
       "\n",
       "   hours-per-week native-country income  \n",
       "0              40  United-States  <=50K  \n",
       "1              50  United-States  <=50K  \n",
       "2              40  United-States   >50K  \n",
       "3              40  United-States   >50K  \n",
       "4              30  United-States  <=50K  "
      ]
     },
     "execution_count": 3,
     "metadata": {},
     "output_type": "execute_result"
    }
   ],
   "source": [
    "df.head(5)"
   ]
  },
  {
   "cell_type": "code",
   "execution_count": 4,
   "id": "8d3384d8",
   "metadata": {},
   "outputs": [
    {
     "name": "stdout",
     "output_type": "stream",
     "text": [
      "<class 'pandas.core.frame.DataFrame'>\n",
      "RangeIndex: 48842 entries, 0 to 48841\n",
      "Data columns (total 15 columns):\n",
      " #   Column           Non-Null Count  Dtype \n",
      "---  ------           --------------  ----- \n",
      " 0   age              48842 non-null  int64 \n",
      " 1   workclass        48842 non-null  object\n",
      " 2   fnlwgt           48842 non-null  int64 \n",
      " 3   education        48842 non-null  object\n",
      " 4   educational-num  48842 non-null  int64 \n",
      " 5   marital-status   48842 non-null  object\n",
      " 6   occupation       48842 non-null  object\n",
      " 7   relationship     48842 non-null  object\n",
      " 8   race             48842 non-null  object\n",
      " 9   gender           48842 non-null  object\n",
      " 10  capital-gain     48842 non-null  int64 \n",
      " 11  capital-loss     48842 non-null  int64 \n",
      " 12  hours-per-week   48842 non-null  int64 \n",
      " 13  native-country   48842 non-null  object\n",
      " 14  income           48842 non-null  object\n",
      "dtypes: int64(6), object(9)\n",
      "memory usage: 5.6+ MB\n"
     ]
    }
   ],
   "source": [
    "df.info()"
   ]
  },
  {
   "cell_type": "code",
   "execution_count": 5,
   "id": "a3f33dea",
   "metadata": {},
   "outputs": [
    {
     "data": {
      "text/html": [
       "<div>\n",
       "<style scoped>\n",
       "    .dataframe tbody tr th:only-of-type {\n",
       "        vertical-align: middle;\n",
       "    }\n",
       "\n",
       "    .dataframe tbody tr th {\n",
       "        vertical-align: top;\n",
       "    }\n",
       "\n",
       "    .dataframe thead th {\n",
       "        text-align: right;\n",
       "    }\n",
       "</style>\n",
       "<table border=\"1\" class=\"dataframe\">\n",
       "  <thead>\n",
       "    <tr style=\"text-align: right;\">\n",
       "      <th></th>\n",
       "      <th>age</th>\n",
       "      <th>fnlwgt</th>\n",
       "      <th>educational-num</th>\n",
       "      <th>capital-gain</th>\n",
       "      <th>capital-loss</th>\n",
       "      <th>hours-per-week</th>\n",
       "    </tr>\n",
       "  </thead>\n",
       "  <tbody>\n",
       "    <tr>\n",
       "      <th>count</th>\n",
       "      <td>48842.000</td>\n",
       "      <td>48842.000</td>\n",
       "      <td>48842.000</td>\n",
       "      <td>48842.000</td>\n",
       "      <td>48842.000</td>\n",
       "      <td>48842.000</td>\n",
       "    </tr>\n",
       "    <tr>\n",
       "      <th>mean</th>\n",
       "      <td>38.644</td>\n",
       "      <td>189664.135</td>\n",
       "      <td>10.078</td>\n",
       "      <td>1079.068</td>\n",
       "      <td>87.502</td>\n",
       "      <td>40.422</td>\n",
       "    </tr>\n",
       "    <tr>\n",
       "      <th>std</th>\n",
       "      <td>13.711</td>\n",
       "      <td>105604.025</td>\n",
       "      <td>2.571</td>\n",
       "      <td>7452.019</td>\n",
       "      <td>403.005</td>\n",
       "      <td>12.391</td>\n",
       "    </tr>\n",
       "    <tr>\n",
       "      <th>min</th>\n",
       "      <td>17.000</td>\n",
       "      <td>12285.000</td>\n",
       "      <td>1.000</td>\n",
       "      <td>0.000</td>\n",
       "      <td>0.000</td>\n",
       "      <td>1.000</td>\n",
       "    </tr>\n",
       "    <tr>\n",
       "      <th>25%</th>\n",
       "      <td>28.000</td>\n",
       "      <td>117550.500</td>\n",
       "      <td>9.000</td>\n",
       "      <td>0.000</td>\n",
       "      <td>0.000</td>\n",
       "      <td>40.000</td>\n",
       "    </tr>\n",
       "    <tr>\n",
       "      <th>50%</th>\n",
       "      <td>37.000</td>\n",
       "      <td>178144.500</td>\n",
       "      <td>10.000</td>\n",
       "      <td>0.000</td>\n",
       "      <td>0.000</td>\n",
       "      <td>40.000</td>\n",
       "    </tr>\n",
       "    <tr>\n",
       "      <th>75%</th>\n",
       "      <td>48.000</td>\n",
       "      <td>237642.000</td>\n",
       "      <td>12.000</td>\n",
       "      <td>0.000</td>\n",
       "      <td>0.000</td>\n",
       "      <td>45.000</td>\n",
       "    </tr>\n",
       "    <tr>\n",
       "      <th>max</th>\n",
       "      <td>90.000</td>\n",
       "      <td>1490400.000</td>\n",
       "      <td>16.000</td>\n",
       "      <td>99999.000</td>\n",
       "      <td>4356.000</td>\n",
       "      <td>99.000</td>\n",
       "    </tr>\n",
       "  </tbody>\n",
       "</table>\n",
       "</div>"
      ],
      "text/plain": [
       "            age      fnlwgt  educational-num  capital-gain  capital-loss  \\\n",
       "count 48842.000   48842.000        48842.000     48842.000     48842.000   \n",
       "mean     38.644  189664.135           10.078      1079.068        87.502   \n",
       "std      13.711  105604.025            2.571      7452.019       403.005   \n",
       "min      17.000   12285.000            1.000         0.000         0.000   \n",
       "25%      28.000  117550.500            9.000         0.000         0.000   \n",
       "50%      37.000  178144.500           10.000         0.000         0.000   \n",
       "75%      48.000  237642.000           12.000         0.000         0.000   \n",
       "max      90.000 1490400.000           16.000     99999.000      4356.000   \n",
       "\n",
       "       hours-per-week  \n",
       "count       48842.000  \n",
       "mean           40.422  \n",
       "std            12.391  \n",
       "min             1.000  \n",
       "25%            40.000  \n",
       "50%            40.000  \n",
       "75%            45.000  \n",
       "max            99.000  "
      ]
     },
     "execution_count": 5,
     "metadata": {},
     "output_type": "execute_result"
    }
   ],
   "source": [
    "df.describe()"
   ]
  },
  {
   "cell_type": "code",
   "execution_count": 6,
   "id": "9cce9b5d",
   "metadata": {},
   "outputs": [
    {
     "data": {
      "text/plain": [
       "age                0\n",
       "workclass          0\n",
       "fnlwgt             0\n",
       "education          0\n",
       "educational-num    0\n",
       "marital-status     0\n",
       "occupation         0\n",
       "relationship       0\n",
       "race               0\n",
       "gender             0\n",
       "capital-gain       0\n",
       "capital-loss       0\n",
       "hours-per-week     0\n",
       "native-country     0\n",
       "income             0\n",
       "dtype: int64"
      ]
     },
     "execution_count": 6,
     "metadata": {},
     "output_type": "execute_result"
    }
   ],
   "source": [
    "df.isnull().sum()"
   ]
  },
  {
   "cell_type": "code",
   "execution_count": 7,
   "id": "c4b422e4",
   "metadata": {},
   "outputs": [
    {
     "data": {
      "text/html": [
       "<div>\n",
       "<style scoped>\n",
       "    .dataframe tbody tr th:only-of-type {\n",
       "        vertical-align: middle;\n",
       "    }\n",
       "\n",
       "    .dataframe tbody tr th {\n",
       "        vertical-align: top;\n",
       "    }\n",
       "\n",
       "    .dataframe thead th {\n",
       "        text-align: right;\n",
       "    }\n",
       "</style>\n",
       "<table border=\"1\" class=\"dataframe\">\n",
       "  <thead>\n",
       "    <tr style=\"text-align: right;\">\n",
       "      <th></th>\n",
       "      <th>45481</th>\n",
       "      <th>8214</th>\n",
       "      <th>10364</th>\n",
       "      <th>20566</th>\n",
       "      <th>37979</th>\n",
       "      <th>36904</th>\n",
       "      <th>6423</th>\n",
       "      <th>6269</th>\n",
       "      <th>8992</th>\n",
       "      <th>47330</th>\n",
       "    </tr>\n",
       "  </thead>\n",
       "  <tbody>\n",
       "    <tr>\n",
       "      <th>age</th>\n",
       "      <td>32</td>\n",
       "      <td>46</td>\n",
       "      <td>66</td>\n",
       "      <td>59</td>\n",
       "      <td>32</td>\n",
       "      <td>23</td>\n",
       "      <td>37</td>\n",
       "      <td>34</td>\n",
       "      <td>33</td>\n",
       "      <td>27</td>\n",
       "    </tr>\n",
       "    <tr>\n",
       "      <th>workclass</th>\n",
       "      <td>Private</td>\n",
       "      <td>Local-gov</td>\n",
       "      <td>?</td>\n",
       "      <td>Private</td>\n",
       "      <td>?</td>\n",
       "      <td>Private</td>\n",
       "      <td>Local-gov</td>\n",
       "      <td>Local-gov</td>\n",
       "      <td>Private</td>\n",
       "      <td>Private</td>\n",
       "    </tr>\n",
       "    <tr>\n",
       "      <th>fnlwgt</th>\n",
       "      <td>159589</td>\n",
       "      <td>126524</td>\n",
       "      <td>249043</td>\n",
       "      <td>168569</td>\n",
       "      <td>256371</td>\n",
       "      <td>214635</td>\n",
       "      <td>188612</td>\n",
       "      <td>63338</td>\n",
       "      <td>154227</td>\n",
       "      <td>167737</td>\n",
       "    </tr>\n",
       "    <tr>\n",
       "      <th>education</th>\n",
       "      <td>HS-grad</td>\n",
       "      <td>Bachelors</td>\n",
       "      <td>11th</td>\n",
       "      <td>HS-grad</td>\n",
       "      <td>12th</td>\n",
       "      <td>HS-grad</td>\n",
       "      <td>Masters</td>\n",
       "      <td>HS-grad</td>\n",
       "      <td>Some-college</td>\n",
       "      <td>Some-college</td>\n",
       "    </tr>\n",
       "    <tr>\n",
       "      <th>educational-num</th>\n",
       "      <td>9</td>\n",
       "      <td>13</td>\n",
       "      <td>7</td>\n",
       "      <td>9</td>\n",
       "      <td>8</td>\n",
       "      <td>9</td>\n",
       "      <td>14</td>\n",
       "      <td>9</td>\n",
       "      <td>10</td>\n",
       "      <td>10</td>\n",
       "    </tr>\n",
       "    <tr>\n",
       "      <th>marital-status</th>\n",
       "      <td>Never-married</td>\n",
       "      <td>Married-civ-spouse</td>\n",
       "      <td>Married-civ-spouse</td>\n",
       "      <td>Married-civ-spouse</td>\n",
       "      <td>Never-married</td>\n",
       "      <td>Never-married</td>\n",
       "      <td>Married-civ-spouse</td>\n",
       "      <td>Never-married</td>\n",
       "      <td>Married-civ-spouse</td>\n",
       "      <td>Never-married</td>\n",
       "    </tr>\n",
       "    <tr>\n",
       "      <th>occupation</th>\n",
       "      <td>Handlers-cleaners</td>\n",
       "      <td>Prof-specialty</td>\n",
       "      <td>?</td>\n",
       "      <td>Machine-op-inspct</td>\n",
       "      <td>?</td>\n",
       "      <td>Craft-repair</td>\n",
       "      <td>Exec-managerial</td>\n",
       "      <td>Adm-clerical</td>\n",
       "      <td>Machine-op-inspct</td>\n",
       "      <td>Handlers-cleaners</td>\n",
       "    </tr>\n",
       "    <tr>\n",
       "      <th>relationship</th>\n",
       "      <td>Own-child</td>\n",
       "      <td>Wife</td>\n",
       "      <td>Husband</td>\n",
       "      <td>Husband</td>\n",
       "      <td>Own-child</td>\n",
       "      <td>Not-in-family</td>\n",
       "      <td>Husband</td>\n",
       "      <td>Own-child</td>\n",
       "      <td>Husband</td>\n",
       "      <td>Not-in-family</td>\n",
       "    </tr>\n",
       "    <tr>\n",
       "      <th>race</th>\n",
       "      <td>White</td>\n",
       "      <td>White</td>\n",
       "      <td>White</td>\n",
       "      <td>White</td>\n",
       "      <td>Black</td>\n",
       "      <td>White</td>\n",
       "      <td>White</td>\n",
       "      <td>White</td>\n",
       "      <td>White</td>\n",
       "      <td>White</td>\n",
       "    </tr>\n",
       "    <tr>\n",
       "      <th>gender</th>\n",
       "      <td>Male</td>\n",
       "      <td>Female</td>\n",
       "      <td>Male</td>\n",
       "      <td>Male</td>\n",
       "      <td>Female</td>\n",
       "      <td>Male</td>\n",
       "      <td>Male</td>\n",
       "      <td>Female</td>\n",
       "      <td>Male</td>\n",
       "      <td>Male</td>\n",
       "    </tr>\n",
       "    <tr>\n",
       "      <th>capital-gain</th>\n",
       "      <td>0</td>\n",
       "      <td>0</td>\n",
       "      <td>0</td>\n",
       "      <td>0</td>\n",
       "      <td>0</td>\n",
       "      <td>0</td>\n",
       "      <td>0</td>\n",
       "      <td>0</td>\n",
       "      <td>0</td>\n",
       "      <td>0</td>\n",
       "    </tr>\n",
       "    <tr>\n",
       "      <th>capital-loss</th>\n",
       "      <td>0</td>\n",
       "      <td>1902</td>\n",
       "      <td>0</td>\n",
       "      <td>1887</td>\n",
       "      <td>0</td>\n",
       "      <td>0</td>\n",
       "      <td>0</td>\n",
       "      <td>0</td>\n",
       "      <td>0</td>\n",
       "      <td>0</td>\n",
       "    </tr>\n",
       "    <tr>\n",
       "      <th>hours-per-week</th>\n",
       "      <td>50</td>\n",
       "      <td>40</td>\n",
       "      <td>40</td>\n",
       "      <td>40</td>\n",
       "      <td>40</td>\n",
       "      <td>40</td>\n",
       "      <td>50</td>\n",
       "      <td>40</td>\n",
       "      <td>40</td>\n",
       "      <td>48</td>\n",
       "    </tr>\n",
       "    <tr>\n",
       "      <th>native-country</th>\n",
       "      <td>United-States</td>\n",
       "      <td>United-States</td>\n",
       "      <td>United-States</td>\n",
       "      <td>United-States</td>\n",
       "      <td>United-States</td>\n",
       "      <td>United-States</td>\n",
       "      <td>United-States</td>\n",
       "      <td>United-States</td>\n",
       "      <td>United-States</td>\n",
       "      <td>United-States</td>\n",
       "    </tr>\n",
       "    <tr>\n",
       "      <th>income</th>\n",
       "      <td>&lt;=50K</td>\n",
       "      <td>&gt;50K</td>\n",
       "      <td>&gt;50K</td>\n",
       "      <td>&gt;50K</td>\n",
       "      <td>&lt;=50K</td>\n",
       "      <td>&lt;=50K</td>\n",
       "      <td>&gt;50K</td>\n",
       "      <td>&lt;=50K</td>\n",
       "      <td>&gt;50K</td>\n",
       "      <td>&lt;=50K</td>\n",
       "    </tr>\n",
       "  </tbody>\n",
       "</table>\n",
       "</div>"
      ],
      "text/plain": [
       "                             45481               8214                10364  \\\n",
       "age                             32                  46                  66   \n",
       "workclass                  Private           Local-gov                   ?   \n",
       "fnlwgt                      159589              126524              249043   \n",
       "education                  HS-grad           Bachelors                11th   \n",
       "educational-num                  9                  13                   7   \n",
       "marital-status       Never-married  Married-civ-spouse  Married-civ-spouse   \n",
       "occupation       Handlers-cleaners      Prof-specialty                   ?   \n",
       "relationship             Own-child                Wife             Husband   \n",
       "race                         White               White               White   \n",
       "gender                        Male              Female                Male   \n",
       "capital-gain                     0                   0                   0   \n",
       "capital-loss                     0                1902                   0   \n",
       "hours-per-week                  50                  40                  40   \n",
       "native-country       United-States       United-States       United-States   \n",
       "income                       <=50K                >50K                >50K   \n",
       "\n",
       "                              20566          37979          36904  \\\n",
       "age                              59             32             23   \n",
       "workclass                   Private              ?        Private   \n",
       "fnlwgt                       168569         256371         214635   \n",
       "education                   HS-grad           12th        HS-grad   \n",
       "educational-num                   9              8              9   \n",
       "marital-status   Married-civ-spouse  Never-married  Never-married   \n",
       "occupation        Machine-op-inspct              ?   Craft-repair   \n",
       "relationship                Husband      Own-child  Not-in-family   \n",
       "race                          White          Black          White   \n",
       "gender                         Male         Female           Male   \n",
       "capital-gain                      0              0              0   \n",
       "capital-loss                   1887              0              0   \n",
       "hours-per-week                   40             40             40   \n",
       "native-country        United-States  United-States  United-States   \n",
       "income                         >50K          <=50K          <=50K   \n",
       "\n",
       "                              6423           6269                8992   \\\n",
       "age                              37             34                  33   \n",
       "workclass                 Local-gov      Local-gov             Private   \n",
       "fnlwgt                       188612          63338              154227   \n",
       "education                   Masters        HS-grad        Some-college   \n",
       "educational-num                  14              9                  10   \n",
       "marital-status   Married-civ-spouse  Never-married  Married-civ-spouse   \n",
       "occupation          Exec-managerial   Adm-clerical   Machine-op-inspct   \n",
       "relationship                Husband      Own-child             Husband   \n",
       "race                          White          White               White   \n",
       "gender                         Male         Female                Male   \n",
       "capital-gain                      0              0                   0   \n",
       "capital-loss                      0              0                   0   \n",
       "hours-per-week                   50             40                  40   \n",
       "native-country        United-States  United-States       United-States   \n",
       "income                         >50K          <=50K                >50K   \n",
       "\n",
       "                             47330  \n",
       "age                             27  \n",
       "workclass                  Private  \n",
       "fnlwgt                      167737  \n",
       "education             Some-college  \n",
       "educational-num                 10  \n",
       "marital-status       Never-married  \n",
       "occupation       Handlers-cleaners  \n",
       "relationship         Not-in-family  \n",
       "race                         White  \n",
       "gender                        Male  \n",
       "capital-gain                     0  \n",
       "capital-loss                     0  \n",
       "hours-per-week                  48  \n",
       "native-country       United-States  \n",
       "income                       <=50K  "
      ]
     },
     "execution_count": 7,
     "metadata": {},
     "output_type": "execute_result"
    }
   ],
   "source": [
    "df.sample(10).T"
   ]
  },
  {
   "cell_type": "markdown",
   "id": "313f2e42",
   "metadata": {},
   "source": [
    "*** I see some columns contain \"?\". Now, I wan to find out which contains that**  "
   ]
  },
  {
   "cell_type": "code",
   "execution_count": 8,
   "id": "720bf666",
   "metadata": {},
   "outputs": [],
   "source": [
    "dic={\"any\":df.isin([\"?\"]).any(),\"sum\":df.isin([\"?\"]).sum()}"
   ]
  },
  {
   "cell_type": "code",
   "execution_count": 9,
   "id": "25b899a9",
   "metadata": {},
   "outputs": [],
   "source": [
    "X=pd.DataFrame(dic)"
   ]
  },
  {
   "cell_type": "code",
   "execution_count": 10,
   "id": "66386f91",
   "metadata": {},
   "outputs": [
    {
     "data": {
      "text/html": [
       "<div>\n",
       "<style scoped>\n",
       "    .dataframe tbody tr th:only-of-type {\n",
       "        vertical-align: middle;\n",
       "    }\n",
       "\n",
       "    .dataframe tbody tr th {\n",
       "        vertical-align: top;\n",
       "    }\n",
       "\n",
       "    .dataframe thead th {\n",
       "        text-align: right;\n",
       "    }\n",
       "</style>\n",
       "<table border=\"1\" class=\"dataframe\">\n",
       "  <thead>\n",
       "    <tr style=\"text-align: right;\">\n",
       "      <th></th>\n",
       "      <th>any</th>\n",
       "      <th>sum</th>\n",
       "    </tr>\n",
       "  </thead>\n",
       "  <tbody>\n",
       "    <tr>\n",
       "      <th>age</th>\n",
       "      <td>False</td>\n",
       "      <td>0</td>\n",
       "    </tr>\n",
       "    <tr>\n",
       "      <th>workclass</th>\n",
       "      <td>True</td>\n",
       "      <td>2799</td>\n",
       "    </tr>\n",
       "    <tr>\n",
       "      <th>fnlwgt</th>\n",
       "      <td>False</td>\n",
       "      <td>0</td>\n",
       "    </tr>\n",
       "    <tr>\n",
       "      <th>education</th>\n",
       "      <td>False</td>\n",
       "      <td>0</td>\n",
       "    </tr>\n",
       "    <tr>\n",
       "      <th>educational-num</th>\n",
       "      <td>False</td>\n",
       "      <td>0</td>\n",
       "    </tr>\n",
       "    <tr>\n",
       "      <th>marital-status</th>\n",
       "      <td>False</td>\n",
       "      <td>0</td>\n",
       "    </tr>\n",
       "    <tr>\n",
       "      <th>occupation</th>\n",
       "      <td>True</td>\n",
       "      <td>2809</td>\n",
       "    </tr>\n",
       "    <tr>\n",
       "      <th>relationship</th>\n",
       "      <td>False</td>\n",
       "      <td>0</td>\n",
       "    </tr>\n",
       "    <tr>\n",
       "      <th>race</th>\n",
       "      <td>False</td>\n",
       "      <td>0</td>\n",
       "    </tr>\n",
       "    <tr>\n",
       "      <th>gender</th>\n",
       "      <td>False</td>\n",
       "      <td>0</td>\n",
       "    </tr>\n",
       "    <tr>\n",
       "      <th>capital-gain</th>\n",
       "      <td>False</td>\n",
       "      <td>0</td>\n",
       "    </tr>\n",
       "    <tr>\n",
       "      <th>capital-loss</th>\n",
       "      <td>False</td>\n",
       "      <td>0</td>\n",
       "    </tr>\n",
       "    <tr>\n",
       "      <th>hours-per-week</th>\n",
       "      <td>False</td>\n",
       "      <td>0</td>\n",
       "    </tr>\n",
       "    <tr>\n",
       "      <th>native-country</th>\n",
       "      <td>True</td>\n",
       "      <td>857</td>\n",
       "    </tr>\n",
       "    <tr>\n",
       "      <th>income</th>\n",
       "      <td>False</td>\n",
       "      <td>0</td>\n",
       "    </tr>\n",
       "  </tbody>\n",
       "</table>\n",
       "</div>"
      ],
      "text/plain": [
       "                   any   sum\n",
       "age              False     0\n",
       "workclass         True  2799\n",
       "fnlwgt           False     0\n",
       "education        False     0\n",
       "educational-num  False     0\n",
       "marital-status   False     0\n",
       "occupation        True  2809\n",
       "relationship     False     0\n",
       "race             False     0\n",
       "gender           False     0\n",
       "capital-gain     False     0\n",
       "capital-loss     False     0\n",
       "hours-per-week   False     0\n",
       "native-country    True   857\n",
       "income           False     0"
      ]
     },
     "execution_count": 10,
     "metadata": {},
     "output_type": "execute_result"
    }
   ],
   "source": [
    "X"
   ]
  },
  {
   "cell_type": "code",
   "execution_count": 11,
   "id": "bf59014a",
   "metadata": {},
   "outputs": [
    {
     "data": {
      "image/png": "[encoded data removed]",
      "text/plain": [
       "<Figure size 720x432 with 1 Axes>"
      ]
     },
     "metadata": {},
     "output_type": "display_data"
    }
   ],
   "source": [
    "X[X[\"sum\"]>0].plot(kind=\"bar\");"
   ]
  },
  {
   "cell_type": "markdown",
   "id": "d0db5757",
   "metadata": {},
   "source": [
    "## Data-Cleaning"
   ]
  },
  {
   "cell_type": "markdown",
   "id": "a1766717",
   "metadata": {},
   "source": [
    "### 1) Workclass"
   ]
  },
  {
   "cell_type": "code",
   "execution_count": 12,
   "id": "84dabebe",
   "metadata": {},
   "outputs": [],
   "source": [
    "df.replace(\"?\",np.NaN,inplace=True)"
   ]
  },
  {
   "cell_type": "markdown",
   "id": "aece2d8b",
   "metadata": {},
   "source": [
    "### 2) 'Education'-'Educational-num'"
   ]
  },
  {
   "cell_type": "code",
   "execution_count": 13,
   "id": "b9106e8f",
   "metadata": {},
   "outputs": [
    {
     "data": {
      "text/plain": [
       "educational-num  education   \n",
       "1                Preschool          83\n",
       "2                1st-4th           247\n",
       "3                5th-6th           509\n",
       "4                7th-8th           955\n",
       "5                9th               756\n",
       "6                10th             1389\n",
       "7                11th             1812\n",
       "8                12th              657\n",
       "9                HS-grad         15784\n",
       "10               Some-college    10878\n",
       "11               Assoc-voc        2061\n",
       "12               Assoc-acdm       1601\n",
       "13               Bachelors        8025\n",
       "14               Masters          2657\n",
       "15               Prof-school       834\n",
       "16               Doctorate         594\n",
       "Name: education, dtype: int64"
      ]
     },
     "execution_count": 13,
     "metadata": {},
     "output_type": "execute_result"
    }
   ],
   "source": [
    "df.groupby(\"educational-num\")[\"education\"].value_counts(dropna=False)"
   ]
  },
  {
   "cell_type": "markdown",
   "id": "bbea9102",
   "metadata": {},
   "source": [
    "**As we see here each value in one column match to each values in another column. That's why we can drop one of them**"
   ]
  },
  {
   "cell_type": "code",
   "execution_count": 14,
   "id": "2745a2a2",
   "metadata": {},
   "outputs": [],
   "source": [
    "df.drop(\"educational-num\",axis=1,inplace=True)"
   ]
  },
  {
   "cell_type": "markdown",
   "id": "cb798bed",
   "metadata": {},
   "source": [
    "## 3) Marital Status-Relationship"
   ]
  },
  {
   "cell_type": "code",
   "execution_count": 15,
   "id": "9ba87957",
   "metadata": {},
   "outputs": [
    {
     "data": {
      "text/plain": [
       "Married-civ-spouse       22379\n",
       "Never-married            16117\n",
       "Divorced                  6633\n",
       "Separated                 1530\n",
       "Widowed                   1518\n",
       "Married-spouse-absent      628\n",
       "Married-AF-spouse           37\n",
       "Name: marital-status, dtype: int64"
      ]
     },
     "execution_count": 15,
     "metadata": {},
     "output_type": "execute_result"
    }
   ],
   "source": [
    "df[\"marital-status\"].value_counts(dropna=False)"
   ]
  },
  {
   "cell_type": "code",
   "execution_count": 16,
   "id": "e26228d3",
   "metadata": {},
   "outputs": [
    {
     "data": {
      "text/plain": [
       "Husband           19716\n",
       "Not-in-family     12583\n",
       "Own-child          7581\n",
       "Unmarried          5125\n",
       "Wife               2331\n",
       "Other-relative     1506\n",
       "Name: relationship, dtype: int64"
      ]
     },
     "execution_count": 16,
     "metadata": {},
     "output_type": "execute_result"
    }
   ],
   "source": [
    "df[\"relationship\"].value_counts(dropna=False)"
   ]
  },
  {
   "cell_type": "code",
   "execution_count": 17,
   "id": "09fdb531",
   "metadata": {},
   "outputs": [
    {
     "data": {
      "text/plain": [
       "relationship    marital-status       \n",
       "Husband         Married-civ-spouse       19704\n",
       "                Married-AF-spouse           12\n",
       "Not-in-family   Never-married             7114\n",
       "                Divorced                  3628\n",
       "                Widowed                    851\n",
       "                Separated                  637\n",
       "                Married-spouse-absent      330\n",
       "                Married-civ-spouse          23\n",
       "Other-relative  Never-married              920\n",
       "                Married-civ-spouse         201\n",
       "                Divorced                   181\n",
       "                Separated                   79\n",
       "                Widowed                     70\n",
       "                Married-spouse-absent       54\n",
       "                Married-AF-spouse            1\n",
       "Own-child       Never-married             6750\n",
       "                Divorced                   455\n",
       "                Separated                  146\n",
       "                Married-civ-spouse         143\n",
       "                Married-spouse-absent       61\n",
       "                Widowed                     25\n",
       "                Married-AF-spouse            1\n",
       "Unmarried       Divorced                  2369\n",
       "                Never-married             1333\n",
       "                Separated                  668\n",
       "                Widowed                    572\n",
       "                Married-spouse-absent      183\n",
       "Wife            Married-civ-spouse        2308\n",
       "                Married-AF-spouse           23\n",
       "Name: marital-status, dtype: int64"
      ]
     },
     "execution_count": 17,
     "metadata": {},
     "output_type": "execute_result"
    }
   ],
   "source": [
    "df.groupby(\"relationship\")[\"marital-status\"].value_counts(dropna=False)"
   ]
  },
  {
   "cell_type": "code",
   "execution_count": 18,
   "id": "6fb79c30",
   "metadata": {},
   "outputs": [],
   "source": [
    "df[\"relationship\"].replace([\"Own-child\",\"Other-relative\",\"Not-in-family\"],\"Unmarried\",inplace=True)"
   ]
  },
  {
   "cell_type": "code",
   "execution_count": 19,
   "id": "0c82355b",
   "metadata": {},
   "outputs": [
    {
     "data": {
      "text/plain": [
       "Unmarried    26795\n",
       "Husband      19716\n",
       "Wife          2331\n",
       "Name: relationship, dtype: int64"
      ]
     },
     "execution_count": 19,
     "metadata": {},
     "output_type": "execute_result"
    }
   ],
   "source": [
    "df[\"relationship\"].value_counts(dropna=False)"
   ]
  },
  {
   "cell_type": "code",
   "execution_count": 20,
   "id": "ca9627ec",
   "metadata": {},
   "outputs": [],
   "source": [
    "df[\"relationship\"].replace([\"Husband\",\"Wife\"],\"Married\",inplace=True)"
   ]
  },
  {
   "cell_type": "code",
   "execution_count": 21,
   "id": "40f31a97",
   "metadata": {},
   "outputs": [],
   "source": [
    "df.drop(\"marital-status\",axis=1,inplace=True)"
   ]
  },
  {
   "cell_type": "markdown",
   "id": "d9771d5c",
   "metadata": {},
   "source": [
    "## OUTLIERS - Missing Values"
   ]
  },
  {
   "cell_type": "markdown",
   "id": "3b766d92",
   "metadata": {},
   "source": [
    "**In this part I want to observe whether there is outlier in the columns. It is not simple to find out and decide if there is any outlier**"
   ]
  },
  {
   "cell_type": "markdown",
   "id": "74e3e9c0",
   "metadata": {},
   "source": [
    "### 1) Age"
   ]
  },
  {
   "cell_type": "code",
   "execution_count": 22,
   "id": "06b4aeec",
   "metadata": {},
   "outputs": [
    {
     "data": {
      "text/html": [
       "<div>\n",
       "<style scoped>\n",
       "    .dataframe tbody tr th:only-of-type {\n",
       "        vertical-align: middle;\n",
       "    }\n",
       "\n",
       "    .dataframe tbody tr th {\n",
       "        vertical-align: top;\n",
       "    }\n",
       "\n",
       "    .dataframe thead th {\n",
       "        text-align: right;\n",
       "    }\n",
       "</style>\n",
       "<table border=\"1\" class=\"dataframe\">\n",
       "  <thead>\n",
       "    <tr style=\"text-align: right;\">\n",
       "      <th></th>\n",
       "      <th>age</th>\n",
       "      <th>fnlwgt</th>\n",
       "      <th>capital-gain</th>\n",
       "      <th>capital-loss</th>\n",
       "      <th>hours-per-week</th>\n",
       "    </tr>\n",
       "  </thead>\n",
       "  <tbody>\n",
       "    <tr>\n",
       "      <th>count</th>\n",
       "      <td>48842.000</td>\n",
       "      <td>48842.000</td>\n",
       "      <td>48842.000</td>\n",
       "      <td>48842.000</td>\n",
       "      <td>48842.000</td>\n",
       "    </tr>\n",
       "    <tr>\n",
       "      <th>mean</th>\n",
       "      <td>38.644</td>\n",
       "      <td>189664.135</td>\n",
       "      <td>1079.068</td>\n",
       "      <td>87.502</td>\n",
       "      <td>40.422</td>\n",
       "    </tr>\n",
       "    <tr>\n",
       "      <th>std</th>\n",
       "      <td>13.711</td>\n",
       "      <td>105604.025</td>\n",
       "      <td>7452.019</td>\n",
       "      <td>403.005</td>\n",
       "      <td>12.391</td>\n",
       "    </tr>\n",
       "    <tr>\n",
       "      <th>min</th>\n",
       "      <td>17.000</td>\n",
       "      <td>12285.000</td>\n",
       "      <td>0.000</td>\n",
       "      <td>0.000</td>\n",
       "      <td>1.000</td>\n",
       "    </tr>\n",
       "    <tr>\n",
       "      <th>25%</th>\n",
       "      <td>28.000</td>\n",
       "      <td>117550.500</td>\n",
       "      <td>0.000</td>\n",
       "      <td>0.000</td>\n",
       "      <td>40.000</td>\n",
       "    </tr>\n",
       "    <tr>\n",
       "      <th>50%</th>\n",
       "      <td>37.000</td>\n",
       "      <td>178144.500</td>\n",
       "      <td>0.000</td>\n",
       "      <td>0.000</td>\n",
       "      <td>40.000</td>\n",
       "    </tr>\n",
       "    <tr>\n",
       "      <th>75%</th>\n",
       "      <td>48.000</td>\n",
       "      <td>237642.000</td>\n",
       "      <td>0.000</td>\n",
       "      <td>0.000</td>\n",
       "      <td>45.000</td>\n",
       "    </tr>\n",
       "    <tr>\n",
       "      <th>max</th>\n",
       "      <td>90.000</td>\n",
       "      <td>1490400.000</td>\n",
       "      <td>99999.000</td>\n",
       "      <td>4356.000</td>\n",
       "      <td>99.000</td>\n",
       "    </tr>\n",
       "  </tbody>\n",
       "</table>\n",
       "</div>"
      ],
      "text/plain": [
       "            age      fnlwgt  capital-gain  capital-loss  hours-per-week\n",
       "count 48842.000   48842.000     48842.000     48842.000       48842.000\n",
       "mean     38.644  189664.135      1079.068        87.502          40.422\n",
       "std      13.711  105604.025      7452.019       403.005          12.391\n",
       "min      17.000   12285.000         0.000         0.000           1.000\n",
       "25%      28.000  117550.500         0.000         0.000          40.000\n",
       "50%      37.000  178144.500         0.000         0.000          40.000\n",
       "75%      48.000  237642.000         0.000         0.000          45.000\n",
       "max      90.000 1490400.000     99999.000      4356.000          99.000"
      ]
     },
     "execution_count": 22,
     "metadata": {},
     "output_type": "execute_result"
    }
   ],
   "source": [
    "df.describe() # IQR=0.75-0.25"
   ]
  },
  {
   "cell_type": "code",
   "execution_count": 23,
   "id": "20e4072e",
   "metadata": {},
   "outputs": [
    {
     "data": {
      "image/png": "[encoded data removed]",
      "text/plain": [
       "<Figure size 1440x432 with 2 Axes>"
      ]
     },
     "metadata": {},
     "output_type": "display_data"
    }
   ],
   "source": [
    "plt.figure(figsize=(20, 6))\n",
    "\n",
    "plt.subplot(121)\n",
    "plt.hist(df.age, bins=50)\n",
    "\n",
    "plt.subplot(122)\n",
    "plt.boxplot(df.age, whis=1.5)\n",
    "\n",
    "plt.show()"
   ]
  },
  {
   "cell_type": "code",
   "execution_count": 24,
   "id": "cd6e3a81",
   "metadata": {},
   "outputs": [],
   "source": [
    "Q1=df.age.quantile(0.25)\n",
    "Q3=df.age.quantile(0.75)\n",
    "IQR=Q3-Q1\n",
    "lower=Q1-IQR*1.5\n",
    "upper=Q3+IQR*1.5"
   ]
  },
  {
   "cell_type": "code",
   "execution_count": 25,
   "id": "e9af7bcb",
   "metadata": {},
   "outputs": [
    {
     "data": {
      "text/plain": [
       "(-2.0, 78.0)"
      ]
     },
     "execution_count": 25,
     "metadata": {},
     "output_type": "execute_result"
    }
   ],
   "source": [
    "lower,upper"
   ]
  },
  {
   "cell_type": "markdown",
   "id": "50d4612f",
   "metadata": {},
   "source": [
    "**We have no value less than 17 in age. That's why I won't use \"-2\". Definitely it would't be \"-2\"**"
   ]
  },
  {
   "cell_type": "code",
   "execution_count": 26,
   "id": "d8e6096c",
   "metadata": {},
   "outputs": [],
   "source": [
    "df1=df[(df.age>upper)]"
   ]
  },
  {
   "cell_type": "code",
   "execution_count": 27,
   "id": "40c775f4",
   "metadata": {},
   "outputs": [
    {
     "data": {
      "text/html": [
       "<div>\n",
       "<style scoped>\n",
       "    .dataframe tbody tr th:only-of-type {\n",
       "        vertical-align: middle;\n",
       "    }\n",
       "\n",
       "    .dataframe tbody tr th {\n",
       "        vertical-align: top;\n",
       "    }\n",
       "\n",
       "    .dataframe thead th {\n",
       "        text-align: right;\n",
       "    }\n",
       "</style>\n",
       "<table border=\"1\" class=\"dataframe\">\n",
       "  <thead>\n",
       "    <tr style=\"text-align: right;\">\n",
       "      <th></th>\n",
       "      <th>age</th>\n",
       "      <th>hours-per-week</th>\n",
       "      <th>income</th>\n",
       "    </tr>\n",
       "  </thead>\n",
       "  <tbody>\n",
       "    <tr>\n",
       "      <th>39740</th>\n",
       "      <td>83</td>\n",
       "      <td>50</td>\n",
       "      <td>&gt;50K</td>\n",
       "    </tr>\n",
       "    <tr>\n",
       "      <th>35970</th>\n",
       "      <td>80</td>\n",
       "      <td>20</td>\n",
       "      <td>&lt;=50K</td>\n",
       "    </tr>\n",
       "    <tr>\n",
       "      <th>14033</th>\n",
       "      <td>87</td>\n",
       "      <td>3</td>\n",
       "      <td>&lt;=50K</td>\n",
       "    </tr>\n",
       "    <tr>\n",
       "      <th>33890</th>\n",
       "      <td>79</td>\n",
       "      <td>45</td>\n",
       "      <td>&gt;50K</td>\n",
       "    </tr>\n",
       "    <tr>\n",
       "      <th>37234</th>\n",
       "      <td>80</td>\n",
       "      <td>8</td>\n",
       "      <td>&lt;=50K</td>\n",
       "    </tr>\n",
       "    <tr>\n",
       "      <th>10735</th>\n",
       "      <td>90</td>\n",
       "      <td>40</td>\n",
       "      <td>&gt;50K</td>\n",
       "    </tr>\n",
       "    <tr>\n",
       "      <th>36530</th>\n",
       "      <td>80</td>\n",
       "      <td>24</td>\n",
       "      <td>&lt;=50K</td>\n",
       "    </tr>\n",
       "    <tr>\n",
       "      <th>11289</th>\n",
       "      <td>79</td>\n",
       "      <td>40</td>\n",
       "      <td>&lt;=50K</td>\n",
       "    </tr>\n",
       "    <tr>\n",
       "      <th>32804</th>\n",
       "      <td>79</td>\n",
       "      <td>40</td>\n",
       "      <td>&gt;50K</td>\n",
       "    </tr>\n",
       "    <tr>\n",
       "      <th>41584</th>\n",
       "      <td>90</td>\n",
       "      <td>15</td>\n",
       "      <td>&lt;=50K</td>\n",
       "    </tr>\n",
       "  </tbody>\n",
       "</table>\n",
       "</div>"
      ],
      "text/plain": [
       "       age  hours-per-week income\n",
       "39740   83              50   >50K\n",
       "35970   80              20  <=50K\n",
       "14033   87               3  <=50K\n",
       "33890   79              45   >50K\n",
       "37234   80               8  <=50K\n",
       "10735   90              40   >50K\n",
       "36530   80              24  <=50K\n",
       "11289   79              40  <=50K\n",
       "32804   79              40   >50K\n",
       "41584   90              15  <=50K"
      ]
     },
     "execution_count": 27,
     "metadata": {},
     "output_type": "execute_result"
    }
   ],
   "source": [
    "df1[[\"age\",\"hours-per-week\",\"income\"]].sample(10)"
   ]
  },
  {
   "cell_type": "markdown",
   "id": "da60e766",
   "metadata": {},
   "source": [
    "### 2) WorkClass"
   ]
  },
  {
   "cell_type": "code",
   "execution_count": 28,
   "id": "64567ed2",
   "metadata": {},
   "outputs": [
    {
     "data": {
      "text/plain": [
       "Private             33906\n",
       "Self-emp-not-inc     3862\n",
       "Local-gov            3136\n",
       "NaN                  2799\n",
       "State-gov            1981\n",
       "Self-emp-inc         1695\n",
       "Federal-gov          1432\n",
       "Without-pay            21\n",
       "Never-worked           10\n",
       "Name: workclass, dtype: int64"
      ]
     },
     "execution_count": 28,
     "metadata": {},
     "output_type": "execute_result"
    }
   ],
   "source": [
    "df[\"workclass\"].value_counts(dropna=False)"
   ]
  },
  {
   "cell_type": "code",
   "execution_count": 29,
   "id": "519f1784",
   "metadata": {},
   "outputs": [],
   "source": [
    "df[\"workclass\"].fillna(df.groupby([\"income\",\"education\"])[\"workclass\"].transform(lambda x: x.mode()[0]),inplace=True)"
   ]
  },
  {
   "cell_type": "code",
   "execution_count": 30,
   "id": "50fb2c2a",
   "metadata": {},
   "outputs": [],
   "source": [
    "df[\"workclass\"]=df[\"workclass\"].replace([\"Local-gov\",\"State-gov\",\"Federal-gov\"],\"Gov\")"
   ]
  },
  {
   "cell_type": "code",
   "execution_count": 31,
   "id": "b94e3a18",
   "metadata": {},
   "outputs": [],
   "source": [
    "df[\"workclass\"]=df[\"workclass\"].replace([\"Self-emp-not-inc\",\"Self-emp-inc\"],\"Private\")"
   ]
  },
  {
   "cell_type": "markdown",
   "id": "43d418b3",
   "metadata": {},
   "source": [
    "**Since we have nothing to do with \"income=0\", I'd drop these values. I guess if someone works with \"Without-pay\" or \"Never-worked\" there would be no income.**"
   ]
  },
  {
   "cell_type": "code",
   "execution_count": 32,
   "id": "a5d2eec5",
   "metadata": {},
   "outputs": [
    {
     "data": {
      "text/plain": [
       "Int64Index([ 2957,  3177,  6466,  8785,  8903, 10647, 11607, 13836, 13898,\n",
       "            14034, 18182, 21642, 25538, 27126, 31053, 31814, 31976, 33093,\n",
       "            36354, 36618, 38225, 38496, 39513, 40877, 41781, 44028, 45110,\n",
       "            45439, 48543, 48585, 48595],\n",
       "           dtype='int64')"
      ]
     },
     "execution_count": 32,
     "metadata": {},
     "output_type": "execute_result"
    }
   ],
   "source": [
    "df[(df[\"workclass\"]==\"Without-pay\") | (df[\"workclass\"]==\"Never-worked\")].index"
   ]
  },
  {
   "cell_type": "code",
   "execution_count": 33,
   "id": "06555de1",
   "metadata": {},
   "outputs": [],
   "source": [
    "df.drop(index=(df[(df[\"workclass\"]==\"Without-pay\") | (df[\"workclass\"]==\"Never-worked\")].index),axis=0,inplace=True)"
   ]
  },
  {
   "cell_type": "code",
   "execution_count": 34,
   "id": "7d259ce1",
   "metadata": {},
   "outputs": [],
   "source": [
    "df.reset_index(drop=True,inplace=True)"
   ]
  },
  {
   "cell_type": "code",
   "execution_count": 35,
   "id": "519e6e2a",
   "metadata": {},
   "outputs": [],
   "source": [
    "df.drop(\"fnlwgt\",axis=1,inplace=True)"
   ]
  },
  {
   "cell_type": "markdown",
   "id": "be52a45e",
   "metadata": {},
   "source": [
    "### 3) Occupation"
   ]
  },
  {
   "cell_type": "code",
   "execution_count": 38,
   "id": "fd6d3183",
   "metadata": {},
   "outputs": [
    {
     "data": {
      "text/plain": [
       "Craft-repair         7121\n",
       "Prof-specialty       6474\n",
       "Adm-clerical         6461\n",
       "Exec-managerial      6204\n",
       "Sales                5503\n",
       "Other-service        5432\n",
       "Machine-op-inspct    3020\n",
       "Transport-moving     2358\n",
       "Handlers-cleaners    2070\n",
       "Farming-fishing      1482\n",
       "Tech-support         1446\n",
       "Protective-serv       983\n",
       "Priv-house-serv       242\n",
       "Armed-Forces           15\n",
       "Name: occupation, dtype: int64"
      ]
     },
     "execution_count": 38,
     "metadata": {},
     "output_type": "execute_result"
    }
   ],
   "source": [
    "df['occupation'].value_counts(dropna=False)"
   ]
  },
  {
   "cell_type": "code",
   "execution_count": 37,
   "id": "df20a365",
   "metadata": {},
   "outputs": [],
   "source": [
    "df[\"occupation\"].fillna(df.groupby([\"education\",\"income\"])[\"occupation\"].transform(lambda x: x.mode()[0]),inplace=True)"
   ]
  },
  {
   "cell_type": "markdown",
   "id": "d7f96e2c",
   "metadata": {},
   "source": [
    "### 4) race"
   ]
  },
  {
   "cell_type": "code",
   "execution_count": 39,
   "id": "79cef214",
   "metadata": {},
   "outputs": [
    {
     "data": {
      "text/plain": [
       "White                 41736\n",
       "Black                  4681\n",
       "Asian-Pac-Islander     1518\n",
       "Amer-Indian-Eskimo      470\n",
       "Other                   406\n",
       "Name: race, dtype: int64"
      ]
     },
     "execution_count": 39,
     "metadata": {},
     "output_type": "execute_result"
    }
   ],
   "source": [
    "df[\"race\"].value_counts(dropna=False)"
   ]
  },
  {
   "cell_type": "code",
   "execution_count": 40,
   "id": "aea09292",
   "metadata": {},
   "outputs": [],
   "source": [
    "df[\"race\"]=df[\"race\"].replace(\"Asian-Pac-Islander\",\"White\")\n",
    "df[\"race\"]=df[\"race\"].replace(\"Amer-Indian-Eskimo\",\"Black\")"
   ]
  },
  {
   "cell_type": "code",
   "execution_count": 41,
   "id": "591122b0",
   "metadata": {},
   "outputs": [],
   "source": [
    "df[\"race\"]=df[\"race\"].replace(\"Other\",np.NaN)"
   ]
  },
  {
   "cell_type": "code",
   "execution_count": 42,
   "id": "f9efaa36",
   "metadata": {},
   "outputs": [],
   "source": [
    "df[\"race\"].fillna(method=\"ffill\",inplace=True)"
   ]
  },
  {
   "cell_type": "code",
   "execution_count": 43,
   "id": "a6b5cd2c",
   "metadata": {},
   "outputs": [
    {
     "data": {
      "text/plain": [
       "Index(['age', 'workclass', 'education', 'occupation', 'relationship', 'race',\n",
       "       'gender', 'capital-gain', 'capital-loss', 'hours-per-week',\n",
       "       'native-country', 'income'],\n",
       "      dtype='object')"
      ]
     },
     "execution_count": 43,
     "metadata": {},
     "output_type": "execute_result"
    }
   ],
   "source": [
    "df.columns"
   ]
  },
  {
   "cell_type": "markdown",
   "id": "9725203d",
   "metadata": {},
   "source": [
    "### 5) Capital-gain, Capital-loss"
   ]
  },
  {
   "cell_type": "code",
   "execution_count": 44,
   "id": "a472f9bd",
   "metadata": {},
   "outputs": [],
   "source": [
    "df.drop([\"capital-gain\",\"capital-loss\"],axis=1,inplace=True)"
   ]
  },
  {
   "cell_type": "markdown",
   "id": "15f78555",
   "metadata": {},
   "source": [
    "### 6) Hours-per-week"
   ]
  },
  {
   "cell_type": "code",
   "execution_count": 45,
   "id": "61f6e1a6",
   "metadata": {},
   "outputs": [
    {
     "data": {
      "image/png": "[encoded data removed]",
      "text/plain": [
       "<Figure size 1440x432 with 2 Axes>"
      ]
     },
     "metadata": {},
     "output_type": "display_data"
    }
   ],
   "source": [
    "plt.figure(figsize=(20, 6))\n",
    "\n",
    "plt.subplot(121)\n",
    "plt.hist(df['hours-per-week'], bins=50)\n",
    "\n",
    "plt.subplot(122)\n",
    "plt.boxplot(df['hours-per-week'], whis=2.5)\n",
    "\n",
    "plt.show()"
   ]
  },
  {
   "cell_type": "code",
   "execution_count": 46,
   "id": "7b94bb9d",
   "metadata": {},
   "outputs": [],
   "source": [
    "Q11=df['hours-per-week'].quantile(0.25)\n",
    "Q33=df['hours-per-week'].quantile(0.75)\n",
    "IQR=Q33-Q11\n",
    "lower1=Q11-IQR*1.5\n",
    "upper1=Q33+IQR*1.5"
   ]
  },
  {
   "cell_type": "code",
   "execution_count": 47,
   "id": "5d6faf75",
   "metadata": {},
   "outputs": [
    {
     "data": {
      "text/plain": [
       "(32.5, 52.5)"
      ]
     },
     "execution_count": 47,
     "metadata": {},
     "output_type": "execute_result"
    }
   ],
   "source": [
    "lower1,upper1"
   ]
  },
  {
   "cell_type": "code",
   "execution_count": 50,
   "id": "9d56257c",
   "metadata": {},
   "outputs": [
    {
     "data": {
      "text/html": [
       "<div>\n",
       "<style scoped>\n",
       "    .dataframe tbody tr th:only-of-type {\n",
       "        vertical-align: middle;\n",
       "    }\n",
       "\n",
       "    .dataframe tbody tr th {\n",
       "        vertical-align: top;\n",
       "    }\n",
       "\n",
       "    .dataframe thead th {\n",
       "        text-align: right;\n",
       "    }\n",
       "</style>\n",
       "<table border=\"1\" class=\"dataframe\">\n",
       "  <thead>\n",
       "    <tr style=\"text-align: right;\">\n",
       "      <th></th>\n",
       "      <th>age</th>\n",
       "      <th>workclass</th>\n",
       "      <th>education</th>\n",
       "      <th>occupation</th>\n",
       "      <th>relationship</th>\n",
       "      <th>race</th>\n",
       "      <th>gender</th>\n",
       "      <th>hours-per-week</th>\n",
       "      <th>native-country</th>\n",
       "      <th>income</th>\n",
       "    </tr>\n",
       "  </thead>\n",
       "  <tbody>\n",
       "    <tr>\n",
       "      <th>4</th>\n",
       "      <td>18</td>\n",
       "      <td>Private</td>\n",
       "      <td>Some-college</td>\n",
       "      <td>Adm-clerical</td>\n",
       "      <td>Unmarried</td>\n",
       "      <td>White</td>\n",
       "      <td>Female</td>\n",
       "      <td>30</td>\n",
       "      <td>United-States</td>\n",
       "      <td>&lt;=50K</td>\n",
       "    </tr>\n",
       "    <tr>\n",
       "      <th>5</th>\n",
       "      <td>34</td>\n",
       "      <td>Private</td>\n",
       "      <td>10th</td>\n",
       "      <td>Other-service</td>\n",
       "      <td>Unmarried</td>\n",
       "      <td>White</td>\n",
       "      <td>Male</td>\n",
       "      <td>30</td>\n",
       "      <td>United-States</td>\n",
       "      <td>&lt;=50K</td>\n",
       "    </tr>\n",
       "    <tr>\n",
       "      <th>7</th>\n",
       "      <td>63</td>\n",
       "      <td>Private</td>\n",
       "      <td>Prof-school</td>\n",
       "      <td>Prof-specialty</td>\n",
       "      <td>Married</td>\n",
       "      <td>White</td>\n",
       "      <td>Male</td>\n",
       "      <td>32</td>\n",
       "      <td>United-States</td>\n",
       "      <td>&gt;50K</td>\n",
       "    </tr>\n",
       "    <tr>\n",
       "      <th>9</th>\n",
       "      <td>55</td>\n",
       "      <td>Private</td>\n",
       "      <td>7th-8th</td>\n",
       "      <td>Craft-repair</td>\n",
       "      <td>Married</td>\n",
       "      <td>White</td>\n",
       "      <td>Male</td>\n",
       "      <td>10</td>\n",
       "      <td>United-States</td>\n",
       "      <td>&lt;=50K</td>\n",
       "    </tr>\n",
       "    <tr>\n",
       "      <th>16</th>\n",
       "      <td>20</td>\n",
       "      <td>Gov</td>\n",
       "      <td>Some-college</td>\n",
       "      <td>Other-service</td>\n",
       "      <td>Unmarried</td>\n",
       "      <td>White</td>\n",
       "      <td>Male</td>\n",
       "      <td>25</td>\n",
       "      <td>United-States</td>\n",
       "      <td>&lt;=50K</td>\n",
       "    </tr>\n",
       "    <tr>\n",
       "      <th>...</th>\n",
       "      <td>...</td>\n",
       "      <td>...</td>\n",
       "      <td>...</td>\n",
       "      <td>...</td>\n",
       "      <td>...</td>\n",
       "      <td>...</td>\n",
       "      <td>...</td>\n",
       "      <td>...</td>\n",
       "      <td>...</td>\n",
       "      <td>...</td>\n",
       "    </tr>\n",
       "    <tr>\n",
       "      <th>48794</th>\n",
       "      <td>31</td>\n",
       "      <td>Private</td>\n",
       "      <td>Masters</td>\n",
       "      <td>Other-service</td>\n",
       "      <td>Unmarried</td>\n",
       "      <td>White</td>\n",
       "      <td>Female</td>\n",
       "      <td>30</td>\n",
       "      <td>United-States</td>\n",
       "      <td>&lt;=50K</td>\n",
       "    </tr>\n",
       "    <tr>\n",
       "      <th>48795</th>\n",
       "      <td>39</td>\n",
       "      <td>Gov</td>\n",
       "      <td>Assoc-acdm</td>\n",
       "      <td>Adm-clerical</td>\n",
       "      <td>Married</td>\n",
       "      <td>White</td>\n",
       "      <td>Female</td>\n",
       "      <td>20</td>\n",
       "      <td>United-States</td>\n",
       "      <td>&gt;50K</td>\n",
       "    </tr>\n",
       "    <tr>\n",
       "      <th>48798</th>\n",
       "      <td>65</td>\n",
       "      <td>Private</td>\n",
       "      <td>Prof-school</td>\n",
       "      <td>Prof-specialty</td>\n",
       "      <td>Unmarried</td>\n",
       "      <td>White</td>\n",
       "      <td>Male</td>\n",
       "      <td>60</td>\n",
       "      <td>United-States</td>\n",
       "      <td>&lt;=50K</td>\n",
       "    </tr>\n",
       "    <tr>\n",
       "      <th>48803</th>\n",
       "      <td>32</td>\n",
       "      <td>Private</td>\n",
       "      <td>Masters</td>\n",
       "      <td>Tech-support</td>\n",
       "      <td>Unmarried</td>\n",
       "      <td>White</td>\n",
       "      <td>Male</td>\n",
       "      <td>11</td>\n",
       "      <td>Taiwan</td>\n",
       "      <td>&lt;=50K</td>\n",
       "    </tr>\n",
       "    <tr>\n",
       "      <th>48809</th>\n",
       "      <td>22</td>\n",
       "      <td>Private</td>\n",
       "      <td>HS-grad</td>\n",
       "      <td>Adm-clerical</td>\n",
       "      <td>Unmarried</td>\n",
       "      <td>White</td>\n",
       "      <td>Male</td>\n",
       "      <td>20</td>\n",
       "      <td>United-States</td>\n",
       "      <td>&lt;=50K</td>\n",
       "    </tr>\n",
       "  </tbody>\n",
       "</table>\n",
       "<p>13479 rows × 10 columns</p>\n",
       "</div>"
      ],
      "text/plain": [
       "       age workclass     education      occupation relationship   race  \\\n",
       "4       18   Private  Some-college    Adm-clerical    Unmarried  White   \n",
       "5       34   Private          10th   Other-service    Unmarried  White   \n",
       "7       63   Private   Prof-school  Prof-specialty      Married  White   \n",
       "9       55   Private       7th-8th    Craft-repair      Married  White   \n",
       "16      20       Gov  Some-college   Other-service    Unmarried  White   \n",
       "...    ...       ...           ...             ...          ...    ...   \n",
       "48794   31   Private       Masters   Other-service    Unmarried  White   \n",
       "48795   39       Gov    Assoc-acdm    Adm-clerical      Married  White   \n",
       "48798   65   Private   Prof-school  Prof-specialty    Unmarried  White   \n",
       "48803   32   Private       Masters    Tech-support    Unmarried  White   \n",
       "48809   22   Private       HS-grad    Adm-clerical    Unmarried  White   \n",
       "\n",
       "       gender  hours-per-week native-country income  \n",
       "4      Female              30  United-States  <=50K  \n",
       "5        Male              30  United-States  <=50K  \n",
       "7        Male              32  United-States   >50K  \n",
       "9        Male              10  United-States  <=50K  \n",
       "16       Male              25  United-States  <=50K  \n",
       "...       ...             ...            ...    ...  \n",
       "48794  Female              30  United-States  <=50K  \n",
       "48795  Female              20  United-States   >50K  \n",
       "48798    Male              60  United-States  <=50K  \n",
       "48803    Male              11         Taiwan  <=50K  \n",
       "48809    Male              20  United-States  <=50K  \n",
       "\n",
       "[13479 rows x 10 columns]"
      ]
     },
     "execution_count": 50,
     "metadata": {},
     "output_type": "execute_result"
    }
   ],
   "source": [
    "df[(df['hours-per-week']<32.5) | (df['hours-per-week']>52.5)]"
   ]
  },
  {
   "cell_type": "markdown",
   "id": "6f6f066a",
   "metadata": {},
   "source": [
    "**I think it is possible someone can work less than \"lower1\" but it is tough the working more than \"upper1\". I think if someone is more than 65 he can't work so long.**"
   ]
  },
  {
   "cell_type": "code",
   "execution_count": 56,
   "id": "630a8f7c",
   "metadata": {},
   "outputs": [
    {
     "data": {
      "text/plain": [
       "Int64Index([   27,    29,    54,   120,   173,   183,   194,   205,   235,\n",
       "              241,\n",
       "            ...\n",
       "            48719, 48722, 48726, 48737, 48745, 48750, 48770, 48773, 48781,\n",
       "            48798],\n",
       "           dtype='int64', length=3058)"
      ]
     },
     "execution_count": 56,
     "metadata": {},
     "output_type": "execute_result"
    }
   ],
   "source": [
    "df[(df['hours-per-week']>52.5) & (df[\"income\"]==\"<=50K\")].index"
   ]
  },
  {
   "cell_type": "code",
   "execution_count": 57,
   "id": "d03cdc89",
   "metadata": {},
   "outputs": [],
   "source": [
    "df.drop(index=df[(df['hours-per-week']>52.5) & (df[\"income\"]==\"<=50K\")].index, axis=0,inplace=True)"
   ]
  },
  {
   "cell_type": "code",
   "execution_count": 61,
   "id": "fa533f97",
   "metadata": {},
   "outputs": [],
   "source": [
    "df.drop(index=df[df['hours-per-week']>60].index,axis=0,inplace=True)"
   ]
  },
  {
   "cell_type": "code",
   "execution_count": 64,
   "id": "7faa8a7e",
   "metadata": {},
   "outputs": [],
   "source": [
    "df.reset_index(drop=True,inplace=True)"
   ]
  },
  {
   "cell_type": "markdown",
   "id": "759c034f",
   "metadata": {},
   "source": [
    "### 7) Native-country"
   ]
  },
  {
   "cell_type": "code",
   "execution_count": 129,
   "id": "a4293e47",
   "metadata": {},
   "outputs": [
    {
     "data": {
      "text/plain": [
       "United-States                 44581\n",
       "Mexico                          969\n",
       "Philippines                     297\n",
       "Germany                         211\n",
       "Puerto-Rico                     188\n",
       "Canada                          185\n",
       "El-Salvador                     161\n",
       "India                           156\n",
       "Cuba                            140\n",
       "England                         130\n",
       "China                           125\n",
       "South                           115\n",
       "Jamaica                         108\n",
       "Dominican-Republic              107\n",
       "Italy                           106\n",
       "Japan                            93\n",
       "Vietnam                          91\n",
       "Guatemala                        90\n",
       "Columbia                         87\n",
       "Poland                           87\n",
       "Haiti                            76\n",
       "Portugal                         67\n",
       "Taiwan                           65\n",
       "Iran                             59\n",
       "Greece                           50\n",
       "Nicaragua                        49\n",
       "Peru                             48\n",
       "Ecuador                          45\n",
       "France                           39\n",
       "Ireland                          37\n",
       "Hong                             30\n",
       "Thailand                         30\n",
       "Cambodia                         29\n",
       "Trinadad&Tobago                  27\n",
       "Yugoslavia                       25\n",
       "Laos                             24\n",
       "Outlying-US(Guam-USVI-etc)       23\n",
       "Scotland                         21\n",
       "Honduras                         20\n",
       "Hungary                          19\n",
       "Holand-Netherlands                1\n",
       "Name: native-country, dtype: int64"
      ]
     },
     "execution_count": 129,
     "metadata": {},
     "output_type": "execute_result"
    }
   ],
   "source": [
    "df['native-country'].value_counts(dropna=False)"
   ]
  },
  {
   "cell_type": "code",
   "execution_count": 128,
   "id": "e49323ce",
   "metadata": {},
   "outputs": [],
   "source": [
    "df['native-country'].fillna(method=\"ffill\",inplace=True)"
   ]
  },
  {
   "cell_type": "code",
   "execution_count": 65,
   "id": "d01bf4a6",
   "metadata": {},
   "outputs": [
    {
     "name": "stdout",
     "output_type": "stream",
     "text": [
      "<class 'pandas.core.frame.DataFrame'>\n",
      "RangeIndex: 45154 entries, 0 to 45153\n",
      "Data columns (total 10 columns):\n",
      " #   Column          Non-Null Count  Dtype \n",
      "---  ------          --------------  ----- \n",
      " 0   age             45154 non-null  int64 \n",
      " 1   workclass       45154 non-null  object\n",
      " 2   education       45154 non-null  object\n",
      " 3   occupation      45154 non-null  object\n",
      " 4   relationship    45154 non-null  object\n",
      " 5   race            45154 non-null  object\n",
      " 6   gender          45154 non-null  object\n",
      " 7   hours-per-week  45154 non-null  int64 \n",
      " 8   native-country  44366 non-null  object\n",
      " 9   income          45154 non-null  object\n",
      "dtypes: int64(2), object(8)\n",
      "memory usage: 3.4+ MB\n"
     ]
    }
   ],
   "source": [
    "df.info()"
   ]
  },
  {
   "cell_type": "markdown",
   "id": "6e4e9551",
   "metadata": {},
   "source": [
    "# Questions"
   ]
  },
  {
   "cell_type": "code",
   "execution_count": 84,
   "id": "5376b202",
   "metadata": {},
   "outputs": [
    {
     "data": {
      "text/html": [
       "<div>\n",
       "<style scoped>\n",
       "    .dataframe tbody tr th:only-of-type {\n",
       "        vertical-align: middle;\n",
       "    }\n",
       "\n",
       "    .dataframe tbody tr th {\n",
       "        vertical-align: top;\n",
       "    }\n",
       "\n",
       "    .dataframe thead th {\n",
       "        text-align: right;\n",
       "    }\n",
       "</style>\n",
       "<table border=\"1\" class=\"dataframe\">\n",
       "  <thead>\n",
       "    <tr style=\"text-align: right;\">\n",
       "      <th></th>\n",
       "      <th>0</th>\n",
       "    </tr>\n",
       "  </thead>\n",
       "  <tbody>\n",
       "    <tr>\n",
       "      <th>age</th>\n",
       "      <td>25</td>\n",
       "    </tr>\n",
       "    <tr>\n",
       "      <th>workclass</th>\n",
       "      <td>Private</td>\n",
       "    </tr>\n",
       "    <tr>\n",
       "      <th>education</th>\n",
       "      <td>11th</td>\n",
       "    </tr>\n",
       "    <tr>\n",
       "      <th>occupation</th>\n",
       "      <td>Machine-op-inspct</td>\n",
       "    </tr>\n",
       "    <tr>\n",
       "      <th>relationship</th>\n",
       "      <td>Unmarried</td>\n",
       "    </tr>\n",
       "    <tr>\n",
       "      <th>race</th>\n",
       "      <td>Black</td>\n",
       "    </tr>\n",
       "    <tr>\n",
       "      <th>gender</th>\n",
       "      <td>Male</td>\n",
       "    </tr>\n",
       "    <tr>\n",
       "      <th>hours-per-week</th>\n",
       "      <td>40</td>\n",
       "    </tr>\n",
       "    <tr>\n",
       "      <th>native-country</th>\n",
       "      <td>United-States</td>\n",
       "    </tr>\n",
       "    <tr>\n",
       "      <th>income</th>\n",
       "      <td>&lt;=50K</td>\n",
       "    </tr>\n",
       "  </tbody>\n",
       "</table>\n",
       "</div>"
      ],
      "text/plain": [
       "                                0\n",
       "age                            25\n",
       "workclass                 Private\n",
       "education                    11th\n",
       "occupation      Machine-op-inspct\n",
       "relationship            Unmarried\n",
       "race                        Black\n",
       "gender                       Male\n",
       "hours-per-week                 40\n",
       "native-country      United-States\n",
       "income                      <=50K"
      ]
     },
     "execution_count": 84,
     "metadata": {},
     "output_type": "execute_result"
    }
   ],
   "source": [
    "df.head(1).T"
   ]
  },
  {
   "cell_type": "markdown",
   "id": "1088f286",
   "metadata": {},
   "source": [
    "### 1) What is the average age of men/women?"
   ]
  },
  {
   "cell_type": "code",
   "execution_count": 88,
   "id": "dfc79a2b",
   "metadata": {},
   "outputs": [
    {
     "data": {
      "image/png": "[encoded data removed]",
      "text/plain": [
       "<Figure size 720x432 with 1 Axes>"
      ]
     },
     "metadata": {},
     "output_type": "display_data"
    }
   ],
   "source": [
    "df.groupby(\"gender\").age.mean().plot(kind=\"bar\");"
   ]
  },
  {
   "cell_type": "code",
   "execution_count": 100,
   "id": "6bbb68b7",
   "metadata": {},
   "outputs": [
    {
     "data": {
      "text/plain": [
       "gender\n",
       "Female   36.813\n",
       "Male     39.495\n",
       "Name: age, dtype: float64"
      ]
     },
     "execution_count": 100,
     "metadata": {},
     "output_type": "execute_result"
    }
   ],
   "source": [
    "df.groupby(\"gender\").age.mean().round(3)"
   ]
  },
  {
   "cell_type": "markdown",
   "id": "633403ec",
   "metadata": {},
   "source": [
    "### 2) What is the distribution of occupation?"
   ]
  },
  {
   "cell_type": "code",
   "execution_count": 104,
   "id": "1c7f68ff",
   "metadata": {},
   "outputs": [
    {
     "data": {
      "image/png": "[encoded data removed]",
      "text/plain": [
       "<Figure size 720x432 with 1 Axes>"
      ]
     },
     "metadata": {},
     "output_type": "display_data"
    }
   ],
   "source": [
    "df[\"occupation\"].value_counts(dropna=False).plot();"
   ]
  },
  {
   "cell_type": "markdown",
   "id": "4b7c852c",
   "metadata": {},
   "source": [
    "### 3) What percentage of people with advanced education (Bachelors, Masters, Doctorate) make more than 50K ?"
   ]
  },
  {
   "cell_type": "code",
   "execution_count": 114,
   "id": "5473566f",
   "metadata": {},
   "outputs": [],
   "source": [
    "a=df[(df.education.isin([\"Bachelors\",\"Masters\"])) & (df.income==\">50K\")].shape[0]"
   ]
  },
  {
   "cell_type": "code",
   "execution_count": 115,
   "id": "3a1104e4",
   "metadata": {},
   "outputs": [],
   "source": [
    "b=df.shape[0]"
   ]
  },
  {
   "cell_type": "code",
   "execution_count": 119,
   "id": "8873f8a7",
   "metadata": {},
   "outputs": [],
   "source": [
    "perc=(a/b)*100"
   ]
  },
  {
   "cell_type": "code",
   "execution_count": 122,
   "id": "6e8ef2f9",
   "metadata": {},
   "outputs": [
    {
     "name": "stdout",
     "output_type": "stream",
     "text": [
      "Percentage of people with advanced education make more than 50 K : 10.13\n"
     ]
    }
   ],
   "source": [
    "print(f\"Percentage of people with advanced education make more than 50 K : {round(perc,2)}\")"
   ]
  },
  {
   "cell_type": "markdown",
   "id": "63dd89d4",
   "metadata": {},
   "source": [
    "### 4) What percentage of the people who work the minimum number of hours per week have a income of > 50 K ?"
   ]
  },
  {
   "cell_type": "code",
   "execution_count": 126,
   "id": "b51cb100",
   "metadata": {},
   "outputs": [
    {
     "data": {
      "text/plain": [
       "Index(['age', 'workclass', 'education', 'occupation', 'relationship', 'race',\n",
       "       'gender', 'hours-per-week', 'native-country', 'income'],\n",
       "      dtype='object')"
      ]
     },
     "execution_count": 126,
     "metadata": {},
     "output_type": "execute_result"
    }
   ],
   "source": [
    "df.columns"
   ]
  },
  {
   "cell_type": "code",
   "execution_count": 136,
   "id": "67374c84",
   "metadata": {},
   "outputs": [],
   "source": [
    "e=df[(df[\"income\"]==\">50K\") & (df[\"hours-per-week\"]==df[\"hours-per-week\"].min())].shape[0]"
   ]
  },
  {
   "cell_type": "code",
   "execution_count": 137,
   "id": "da1f570a",
   "metadata": {},
   "outputs": [],
   "source": [
    "f=df[df[\"hours-per-week\"]==df[\"hours-per-week\"].min()].shape[0]"
   ]
  },
  {
   "cell_type": "code",
   "execution_count": 138,
   "id": "541a243a",
   "metadata": {},
   "outputs": [],
   "source": [
    "pec2=(e/f)*100"
   ]
  },
  {
   "cell_type": "code",
   "execution_count": 139,
   "id": "94df2345",
   "metadata": {},
   "outputs": [
    {
     "name": "stdout",
     "output_type": "stream",
     "text": [
      "percentage of the people who work the minimum number of hours per week have a income of > 50 K : 11.11\n"
     ]
    }
   ],
   "source": [
    "print(f\"percentage of the people who work the minimum number of hours per week have a income of > 50 K : {round(pec2,2)}\")"
   ]
  },
  {
   "cell_type": "markdown",
   "id": "9404456d",
   "metadata": {},
   "source": [
    "### 5) What country has the highest percentage of people that earn > 50 K ?"
   ]
  },
  {
   "cell_type": "code",
   "execution_count": 157,
   "id": "2e41c35f",
   "metadata": {},
   "outputs": [],
   "source": [
    "a5=df[df[\"income\"]==\">50K\"].groupby(\"native-country\")[\"income\"].count()"
   ]
  },
  {
   "cell_type": "code",
   "execution_count": 158,
   "id": "297f2c89",
   "metadata": {},
   "outputs": [],
   "source": [
    "b5=df[df[\"income\"]==\">50K\"].groupby(\"native-country\")[\"income\"].count().sum()"
   ]
  },
  {
   "cell_type": "code",
   "execution_count": 167,
   "id": "bd89748b",
   "metadata": {},
   "outputs": [],
   "source": [
    "c5=pd.DataFrame(a5/b5)"
   ]
  },
  {
   "cell_type": "code",
   "execution_count": 177,
   "id": "6a2e7f82",
   "metadata": {},
   "outputs": [
    {
     "data": {
      "text/html": [
       "<div>\n",
       "<style scoped>\n",
       "    .dataframe tbody tr th:only-of-type {\n",
       "        vertical-align: middle;\n",
       "    }\n",
       "\n",
       "    .dataframe tbody tr th {\n",
       "        vertical-align: top;\n",
       "    }\n",
       "\n",
       "    .dataframe thead th {\n",
       "        text-align: right;\n",
       "    }\n",
       "</style>\n",
       "<table border=\"1\" class=\"dataframe\">\n",
       "  <thead>\n",
       "    <tr style=\"text-align: right;\">\n",
       "      <th></th>\n",
       "      <th>income</th>\n",
       "    </tr>\n",
       "    <tr>\n",
       "      <th>native-country</th>\n",
       "      <th></th>\n",
       "    </tr>\n",
       "  </thead>\n",
       "  <tbody>\n",
       "    <tr>\n",
       "      <th>United-States</th>\n",
       "      <td>0.933</td>\n",
       "    </tr>\n",
       "  </tbody>\n",
       "</table>\n",
       "</div>"
      ],
      "text/plain": [
       "                income\n",
       "native-country        \n",
       "United-States    0.933"
      ]
     },
     "execution_count": 177,
     "metadata": {},
     "output_type": "execute_result"
    }
   ],
   "source": [
    "c5.loc[c5.income==c5.income.max()]"
   ]
  },
  {
   "cell_type": "markdown",
   "id": "13064673",
   "metadata": {},
   "source": [
    "### 6) Identify the most popular occupation for those who earn > 50 K in India."
   ]
  },
  {
   "cell_type": "code",
   "execution_count": 185,
   "id": "aec76d46",
   "metadata": {},
   "outputs": [
    {
     "data": {
      "image/png": "[encoded data removed]",
      "text/plain": [
       "<Figure size 720x432 with 1 Axes>"
      ]
     },
     "metadata": {},
     "output_type": "display_data"
    }
   ],
   "source": [
    "df[(df[\"native-country\"]==\"United-States\") & (df[\"income\"]==\">50K\")][\"occupation\"].value_counts(dropna=False).plot(kind=\"bar\");"
   ]
  },
  {
   "cell_type": "code",
   "execution_count": 187,
   "id": "cd431174",
   "metadata": {},
   "outputs": [],
   "source": [
    "df1=df.select_dtypes(exclude=[\"int\",\"float\"])"
   ]
  },
  {
   "cell_type": "code",
   "execution_count": 191,
   "id": "39a46d50",
   "metadata": {},
   "outputs": [],
   "source": [
    "first=pd.get_dummies(df1,drop_first=True)"
   ]
  },
  {
   "cell_type": "code",
   "execution_count": 192,
   "id": "204f662e",
   "metadata": {},
   "outputs": [],
   "source": [
    "second=df.select_dtypes(include=[\"int\",\"float\"])"
   ]
  },
  {
   "cell_type": "code",
   "execution_count": 194,
   "id": "83089edd",
   "metadata": {},
   "outputs": [
    {
     "data": {
      "text/html": [
       "<div>\n",
       "<style scoped>\n",
       "    .dataframe tbody tr th:only-of-type {\n",
       "        vertical-align: middle;\n",
       "    }\n",
       "\n",
       "    .dataframe tbody tr th {\n",
       "        vertical-align: top;\n",
       "    }\n",
       "\n",
       "    .dataframe thead th {\n",
       "        text-align: right;\n",
       "    }\n",
       "</style>\n",
       "<table border=\"1\" class=\"dataframe\">\n",
       "  <thead>\n",
       "    <tr style=\"text-align: right;\">\n",
       "      <th></th>\n",
       "      <th>age</th>\n",
       "      <th>hours-per-week</th>\n",
       "    </tr>\n",
       "  </thead>\n",
       "  <tbody>\n",
       "    <tr>\n",
       "      <th>0</th>\n",
       "      <td>25</td>\n",
       "      <td>40</td>\n",
       "    </tr>\n",
       "    <tr>\n",
       "      <th>1</th>\n",
       "      <td>38</td>\n",
       "      <td>50</td>\n",
       "    </tr>\n",
       "    <tr>\n",
       "      <th>2</th>\n",
       "      <td>28</td>\n",
       "      <td>40</td>\n",
       "    </tr>\n",
       "    <tr>\n",
       "      <th>3</th>\n",
       "      <td>44</td>\n",
       "      <td>40</td>\n",
       "    </tr>\n",
       "    <tr>\n",
       "      <th>4</th>\n",
       "      <td>18</td>\n",
       "      <td>30</td>\n",
       "    </tr>\n",
       "    <tr>\n",
       "      <th>...</th>\n",
       "      <td>...</td>\n",
       "      <td>...</td>\n",
       "    </tr>\n",
       "    <tr>\n",
       "      <th>45149</th>\n",
       "      <td>27</td>\n",
       "      <td>38</td>\n",
       "    </tr>\n",
       "    <tr>\n",
       "      <th>45150</th>\n",
       "      <td>40</td>\n",
       "      <td>40</td>\n",
       "    </tr>\n",
       "    <tr>\n",
       "      <th>45151</th>\n",
       "      <td>58</td>\n",
       "      <td>40</td>\n",
       "    </tr>\n",
       "    <tr>\n",
       "      <th>45152</th>\n",
       "      <td>22</td>\n",
       "      <td>20</td>\n",
       "    </tr>\n",
       "    <tr>\n",
       "      <th>45153</th>\n",
       "      <td>52</td>\n",
       "      <td>40</td>\n",
       "    </tr>\n",
       "  </tbody>\n",
       "</table>\n",
       "<p>45154 rows × 2 columns</p>\n",
       "</div>"
      ],
      "text/plain": [
       "       age  hours-per-week\n",
       "0       25              40\n",
       "1       38              50\n",
       "2       28              40\n",
       "3       44              40\n",
       "4       18              30\n",
       "...    ...             ...\n",
       "45149   27              38\n",
       "45150   40              40\n",
       "45151   58              40\n",
       "45152   22              20\n",
       "45153   52              40\n",
       "\n",
       "[45154 rows x 2 columns]"
      ]
     },
     "execution_count": 194,
     "metadata": {},
     "output_type": "execute_result"
    }
   ],
   "source": [
    "second"
   ]
  },
  {
   "cell_type": "code",
   "execution_count": 197,
   "id": "b1d7e3ec",
   "metadata": {},
   "outputs": [],
   "source": [
    "get_dummy=pd.concat([first,second],axis=1)"
   ]
  },
  {
   "cell_type": "code",
   "execution_count": 198,
   "id": "1c5233b3",
   "metadata": {},
   "outputs": [],
   "source": [
    "get_dummy.to_csv('get_dummy.csv')"
   ]
  },
  {
   "cell_type": "code",
   "execution_count": null,
   "id": "81d1d5b1",
   "metadata": {},
   "outputs": [],
   "source": []
  }
 ],
 "metadata": {
  "kernelspec": {
   "display_name": "Python 3 (ipykernel)",
   "language": "python",
   "name": "python3"
  },
  "language_info": {
   "codemirror_mode": {
    "name": "ipython",
    "version": 3
   },
   "file_extension": ".py",
   "mimetype": "text/x-python",
   "name": "python",
   "nbconvert_exporter": "python",
   "pygments_lexer": "ipython3",
   "version": "3.9.7"
  }
 },
 "nbformat": 4,
 "nbformat_minor": 5
}
